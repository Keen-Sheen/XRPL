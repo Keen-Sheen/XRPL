{
 "cells": [
  {
   "cell_type": "markdown",
   "id": "e2ef13bb-c1ef-4c45-86cc-eb0e25887cbf",
   "metadata": {},
   "source": [
    "## Establish a connection to the XRP Publicy Ledger"
   ]
  },
  {
   "cell_type": "markdown",
   "id": "08e5d108-fa1f-41b9-b7ab-31a0b420d3b1",
   "metadata": {},
   "source": [
    "## Manage keys and wallets\n",
    "## `xrpl.wallet`\n",
    "* Use the xrpl.wallet module to create a wallet from a given seed or or via a Testnet faucet.\n",
    "* To create a wallet from a seed (in this case, the value generated using xrpl.keypairs):"
   ]
  },
  {
   "cell_type": "code",
   "execution_count": 1,
   "id": "11b63585-72ee-47ea-91ae-0a59cd4e3580",
   "metadata": {},
   "outputs": [],
   "source": [
    "import nest_asyncio\n",
    "nest_asyncio.apply()"
   ]
  },
  {
   "cell_type": "code",
   "execution_count": 2,
   "id": "4b91a7a2-b28e-4854-b32e-9006f6ae6ae7",
   "metadata": {},
   "outputs": [],
   "source": [
    "from xrpl.clients import JsonRpcClient\n",
    "JSON_RPC_URL = \"https://s.altnet.rippletest.net:51234\"\n",
    "client = JsonRpcClient(JSON_RPC_URL)"
   ]
  },
  {
   "cell_type": "code",
   "execution_count": 3,
   "id": "f67554d4-74c6-420c-aa92-7d75475b421b",
   "metadata": {},
   "outputs": [
    {
     "name": "stdout",
     "output_type": "stream",
     "text": [
      "Attempting to fund address rh8PexXJGyNMqYyKWMUvdZVAzzVXRUdQya\n",
      "Faucet fund successful.\n"
     ]
    }
   ],
   "source": [
    "# Create a wallet using the testnet faucet:\n",
    "# https://xrpl.org/xrp-testnet-faucet.html\n",
    "from xrpl.wallet import generate_faucet_wallet\n",
    "test_wallet = generate_faucet_wallet(client, debug=True)"
   ]
  },
  {
   "cell_type": "markdown",
   "id": "fa8696dd-45b2-49c7-ac6b-14ba65154ae5",
   "metadata": {},
   "source": [
    "## To create a wallet from a Testnet faucet:"
   ]
  },
  {
   "cell_type": "code",
   "execution_count": 4,
   "id": "1f323658-c1f1-4679-a167-2649f9493f1a",
   "metadata": {
    "tags": []
   },
   "outputs": [
    {
     "name": "stdout",
     "output_type": "stream",
     "text": [
      "Classic address: rLkveviqgrvm6BFYa1MTjj6Y74W1rgn8Fz\n"
     ]
    }
   ],
   "source": [
    "test_wallet = generate_faucet_wallet(client)\n",
    "test_account = test_wallet.classic_address\n",
    "print(\"Classic address:\", test_account)"
   ]
  },
  {
   "cell_type": "markdown",
   "id": "95dd4e87-c646-4d4d-a3a5-121b11401c52",
   "metadata": {},
   "source": [
    "## xrpl.core.keypairs\n",
    "* Use the xrpl.core.keypairs module to generate seeds and derive keypairs and addresses from those seed values."
   ]
  },
  {
   "cell_type": "code",
   "execution_count": 5,
   "id": "553bf328-9321-40ad-8819-df4379191c8d",
   "metadata": {
    "tags": []
   },
   "outputs": [
    {
     "name": "stdout",
     "output_type": "stream",
     "text": [
      "Here's the public key:\n",
      "ED229A6CA62892A59142A1A18FDA209807EF0D59CD270816832955B2A66633EAC5\n",
      "Here's the private key:\n",
      "ED87A2FB4A51E2758D382AE4D65236BB71B047F5B1894ADDE10B72A9E46299B526\n",
      "Store this in a secure place!\n"
     ]
    }
   ],
   "source": [
    "from xrpl.core import keypairs\n",
    "seed = keypairs.generate_seed()\n",
    "public, private = keypairs.derive_keypair(seed)\n",
    "test_account = keypairs.derive_classic_address(public)\n",
    "print(\"Here's the public key:\")\n",
    "print(public)\n",
    "print(\"Here's the private key:\")\n",
    "print(private)\n",
    "print(\"Store this in a secure place!\")"
   ]
  },
  {
   "cell_type": "code",
   "execution_count": 10,
   "id": "cd5e70ab-f545-4f6b-a74d-02d995a4e6e1",
   "metadata": {},
   "outputs": [],
   "source": [
    "# Prepare payment\n",
    "from xrpl.models.transactions import Payment\n",
    "from xrpl.utils import xrp_to_drops\n",
    "my_tx_payment = Payment(\n",
    "    account=test_account,\n",
    "    amount=xrp_to_drops(22),\n",
    "    destination=\"rPT1Sjq2YGrBMTttX4GZHjKu9dyfzbpAYe\",\n",
    ")"
   ]
  },
  {
   "cell_type": "code",
   "execution_count": 11,
   "id": "982ee65c-938f-4676-831a-d47411d0f1f2",
   "metadata": {},
   "outputs": [],
   "source": [
    "# Sign the transaction\n",
    "from xrpl.transaction import safe_sign_and_autofill_transaction\n",
    "\n",
    "my_tx_payment_signed = safe_sign_and_autofill_transaction(my_tx_payment, test_wallet, client)"
   ]
  },
  {
   "cell_type": "code",
   "execution_count": 12,
   "id": "c822335e-d109-4bba-be7c-0380bc966cb0",
   "metadata": {},
   "outputs": [],
   "source": [
    "# Submit and send the transaction\n",
    "from xrpl.transaction import send_reliable_submission\n",
    "\n",
    "tx_response = send_reliable_submission(my_tx_payment_signed, client)"
   ]
  },
  {
   "cell_type": "code",
   "execution_count": 13,
   "id": "7e278020-d0d0-4e26-a321-f7a3480edd57",
   "metadata": {},
   "outputs": [
    {
     "name": "stdout",
     "output_type": "stream",
     "text": [
      "\n",
      "Classic address:\n",
      "\n",
      " r94k8wGrfQGzWSMSZEgkUpFMcCgN7UVJUo\n",
      "X-address:\n",
      "\n",
      " T7i4ansso1BZNBQnPifnnYkJ6t25gipGgxz5EGZUy8jwNnt\n"
     ]
    }
   ],
   "source": [
    "# Derive an x-address from the classic address:\n",
    "# https://xrpaddress.info/\n",
    "from xrpl.core import addresscodec\n",
    "test_xaddress = addresscodec.classic_address_to_xaddress(test_account, tag=12345, is_test_network=True)\n",
    "print(\"\\nClassic address:\\n\\n\", test_account)\n",
    "print(\"X-address:\\n\\n\", test_xaddress)"
   ]
  },
  {
   "cell_type": "markdown",
   "id": "62bec555-10d5-46af-9843-4699689cc5b5",
   "metadata": {
    "tags": []
   },
   "source": [
    "# Serialize and sign transactions"
   ]
  },
  {
   "cell_type": "markdown",
   "id": "39de2914-1917-4fc7-a8e9-a7de80f53aa5",
   "metadata": {},
   "source": [
    "* First serialize data from JSON and other formats into the XRP Ledger's canonical format\n",
    "* Then to authorize the transaction by digitally signing it with the account's private key. The xrpl-py library provides several methods to simplify this process."
   ]
  },
  {
   "cell_type": "code",
   "execution_count": 6,
   "id": "5b5885bc-902d-41c4-954b-509fd568d23b",
   "metadata": {},
   "outputs": [],
   "source": [
    "from xrpl.models.transactions import Payment\n",
    "from xrpl.transaction import safe_sign_transaction, send_reliable_submission\n",
    "from xrpl.ledger import get_latest_validated_ledger_sequence\n",
    "from xrpl.account import get_next_valid_seq_number\n",
    "\n",
    "current_validated_ledger = get_latest_validated_ledger_sequence(client)\n",
    "test_wallet.sequence = get_next_valid_seq_number(test_wallet.classic_address, client)\n",
    "\n",
    "# prepare the transaction\n",
    "# the amount is expressed in drops, not XRP\n",
    "# see https://xrpl.org/basic-data-types.html#specifying-currency-amounts\n",
    "my_tx_payment = Payment(\n",
    "    account=test_wallet.classic_address,\n",
    "    amount=\"2200000\",\n",
    "    destination=\"rPT1Sjq2YGrBMTttX4GZHjKu9dyfzbpAYe\",\n",
    "    last_ledger_sequence=current_validated_ledger + 20,\n",
    "    sequence=test_wallet.sequence,\n",
    "    fee=\"10\",\n",
    ")\n",
    "# sign the transaction\n",
    "my_tx_payment_signed = safe_sign_transaction(my_tx_payment,test_wallet)\n",
    "\n",
    "# submit the transaction\n",
    "tx_response = send_reliable_submission(my_tx_payment_signed, client)"
   ]
  },
  {
   "cell_type": "markdown",
   "id": "3a49aa3a-2e5b-4b2e-acfc-7209400022a0",
   "metadata": {},
   "source": [
    "# Get fee from the XRP Ledger\n"
   ]
  },
  {
   "cell_type": "code",
   "execution_count": 7,
   "id": "25ae486c-d6e3-4c16-a085-736c29e3041c",
   "metadata": {},
   "outputs": [
    {
     "name": "stdout",
     "output_type": "stream",
     "text": [
      "10\n"
     ]
    }
   ],
   "source": [
    "# use the get_fee function\n",
    "from xrpl.ledger import get_fee\n",
    "fee = get_fee(client)\n",
    "print(fee)\n",
    "# 10"
   ]
  },
  {
   "cell_type": "markdown",
   "id": "7ec21d86-b2e1-49e9-9920-8927633d38e1",
   "metadata": {},
   "source": [
    "## Payments on the XRP Ledger"
   ]
  },
  {
   "cell_type": "code",
   "execution_count": 8,
   "id": "c295c4a4-c0b7-4532-80b9-ae5052f7b1f5",
   "metadata": {},
   "outputs": [
    {
     "name": "stdout",
     "output_type": "stream",
     "text": [
      "Payment(account='rLkveviqgrvm6BFYa1MTjj6Y74W1rgn8Fz', transaction_type=<TransactionType.PAYMENT: 'Payment'>, fee='10', sequence=27025239, account_txn_id=None, flags=0, last_ledger_sequence=27025266, memos=None, signers=None, source_tag=None, signing_pub_key='EDE7341AA658100BA4C62B3F5EF6B138B814F46F029EFD023B40DED45274899CB1', txn_signature='D39665230F991788B77D7FE0ACAD27A583051A20412E6216CF38355C154BEC228F49D56A788ED7E647E95A54C508BFA0EAB09A70EA8F2EC78C3566FD91E7C504', amount='2200000', destination='rPT1Sjq2YGrBMTttX4GZHjKu9dyfzbpAYe', destination_tag=None, invoice_id=None, paths=None, send_max=None, deliver_min=None)\n"
     ]
    }
   ],
   "source": [
    "from xrpl.models.transactions import Payment\n",
    "from xrpl.transaction import send_reliable_submission, safe_sign_and_autofill_transaction\n",
    "# prepare the transaction\n",
    "# the amount is expressed in drops, not XRP\n",
    "# see https://xrpl.org/basic-data-types.html#specifying-currency-amounts\n",
    "my_tx_payment = Payment(\n",
    "    account=test_wallet.classic_address,\n",
    "    amount=\"2200000\",\n",
    "    destination=\"rPT1Sjq2YGrBMTttX4GZHjKu9dyfzbpAYe\"\n",
    ")\n",
    "\n",
    "# sign the transaction with the autofill method\n",
    "# (this will auto-populate the fee, sequence, and last_ledger_sequence)\n",
    "my_tx_payment_signed = safe_sign_and_autofill_transaction(my_tx_payment, test_wallet, client)\n",
    "print(my_tx_payment_signed)\n",
    "# Payment(\n",
    "#     account='rMPUKmzmDWEX1tQhzQ8oGFNfAEhnWNFwz',\n",
    "#     transaction_type=<TransactionType.PAYMENT: 'Payment'>,\n",
    "#     fee='10',\n",
    "#     sequence=16034065,\n",
    "#     account_txn_id=None,\n",
    "#     flags=0,\n",
    "#     last_ledger_sequence=10268600,\n",
    "#     memos=None,\n",
    "#     signers=None,\n",
    "#     source_tag=None,\n",
    "#     signing_pub_key='EDD9540FA398915F0BCBD6E65579C03BE5424836CB68B7EB1D6573F2382156B444',\n",
    "#     txn_signature='938FB22AE7FE76CF26FD11F8F97668E175DFAABD2977BCA397233117E7E1C4A1E39681091CC4D6DF21403682803AB54CC21DC4FA2F6848811DEE10FFEF74D809',\n",
    "#     amount='2200000',\n",
    "#     destination='rPT1Sjq2YGrBMTttX4GZHjKu9dyfzbpAYe',\n",
    "#     destination_tag=None,\n",
    "#     invoice_id=None,\n",
    "#     paths=None,\n",
    "#    send_max=None,\n",
    "#    deliver_min=None\n",
    "# )\n",
    "\n",
    "# submit the transaction\n",
    "tx_response = send_reliable_submission(my_tx_payment_signed, client)"
   ]
  },
  {
   "cell_type": "markdown",
   "id": "2724fb82-0198-475c-8ca6-512a4b3a0c3e",
   "metadata": {},
   "source": [
    "# Subscribe to XRP ledger updates\n"
   ]
  },
  {
   "cell_type": "code",
   "execution_count": null,
   "id": "98c9d145-a83b-4d4b-98c7-5c63b4652485",
   "metadata": {
    "tags": []
   },
   "outputs": [],
   "source": [
    "# Send subscribe and unsubscribe requests using the WebSocket Network Client.\n",
    "from xrpl.clients import WebsocketClient\n",
    "url = \"wss://s.altnet.rippletest.net/\"\n",
    "from xrpl.models.requests import Subscribe, StreamParameter\n",
    "req = Subscribe(streams=[StreamParameter.LEDGER])\n",
    "# NOTE: this code will run forever without a timeout, until the process is killed\n",
    "with WebsocketClient(url) as client:\n",
    "    client.send(req)\n",
    "    for message in client:\n",
    "        print(message)\n",
    "# {'result': {'fee_base': 10, 'fee_ref': 10, 'ledger_hash': '7CD50477F23FF158B430772D8E82A961376A7B40E13C695AA849811EDF66C5C0', 'ledger_index': 18183504, 'ledger_time': 676412962, 'reserve_base': 20000000, 'reserve_inc': 5000000, 'validated_ledgers': '17469391-18183504'}, 'status': 'success', 'type': 'response'}\n",
    "# {'fee_base': 10, 'fee_ref': 10, 'ledger_hash': 'BAA743DABD168BD434804416C8087B7BDEF7E6D7EAD412B9102281DD83B10D00', 'ledger_index': 18183505, 'ledger_time': 676412970, 'reserve_base': 20000000, 'reserve_inc': 5000000, 'txn_count': 0, 'type': 'ledgerClosed', 'validated_ledgers': '17469391-18183505'}\n",
    "# {'fee_base': 10, 'fee_ref': 10, 'ledger_hash': 'D8227DAF8F745AE3F907B251D40B4081E019D013ABC23B68C0B1431DBADA1A46', 'ledger_index': 18183506, 'ledger_time': 676412971, 'reserve_base': 20000000, 'reserve_inc': 5000000, 'txn_count': 0, 'type': 'ledgerClosed', 'validated_ledgers': '17469391-18183506'}\n",
    "# {'fee_base': 10, 'fee_ref': 10, 'ledger_hash': 'CFC412B6DDB9A402662832A781C23F0F2E842EAE6CFC539FEEB287318092C0DE', 'ledger_index': 18183507, 'ledger_time': 676412972, 'reserve_base': 20000000, 'reserve_inc': 5000000, 'txn_count': 0, 'type': 'ledgerClosed', 'validated_ledgers': '17469391-18183507'}"
   ]
  },
  {
   "cell_type": "markdown",
   "id": "b64c7131-6be6-46b3-8154-856e5f3191df",
   "metadata": {},
   "source": [
    "## Combinations\n",
    "#### Using these building blocks, I have created a simple Python app that can:\n",
    "* Generate a wallet on the Testnet.\n",
    "* Connects to the XRP Ledger.\n",
    "* Look up and print information about the account I created."
   ]
  },
  {
   "cell_type": "code",
   "execution_count": 9,
   "id": "632e79ad-7a21-4d9c-b873-98e1b84fb040",
   "metadata": {},
   "outputs": [
    {
     "name": "stdout",
     "output_type": "stream",
     "text": [
      "Attempting to fund address r94k8wGrfQGzWSMSZEgkUpFMcCgN7UVJUo\n",
      "Faucet fund successful.\n",
      "\n",
      "Classic address:\n",
      "\n",
      " r94k8wGrfQGzWSMSZEgkUpFMcCgN7UVJUo\n",
      "X-address:\n",
      "\n",
      " T7i4ansso1BZNBQnPifnnYkJ6t25gipGgxz5EGZUy8jwNnt\n",
      "response.status:  ResponseStatus.SUCCESS\n",
      "{\n",
      "    \"account_data\": {\n",
      "        \"Account\": \"r94k8wGrfQGzWSMSZEgkUpFMcCgN7UVJUo\",\n",
      "        \"Balance\": \"1000000000\",\n",
      "        \"Flags\": 0,\n",
      "        \"LedgerEntryType\": \"AccountRoot\",\n",
      "        \"OwnerCount\": 0,\n",
      "        \"PreviousTxnID\": \"731EF7242A4A609895FD080AC962C79A2C1DDF0C9B3000CBECFF9ADC9E909D75\",\n",
      "        \"PreviousTxnLgrSeq\": 27025250,\n",
      "        \"Sequence\": 27025250,\n",
      "        \"index\": \"1F778C8A9644A7A1CC365752093C6932EBAAD80B0FAD0BC0C2272F6BE19F3AAD\"\n",
      "    },\n",
      "    \"ledger_hash\": \"55D81C2274D0FDCC781FB1B3B544187B6803CDA5E2EC46DECE4219994D4E129C\",\n",
      "    \"ledger_index\": 27025250,\n",
      "    \"validated\": true\n",
      "}\n"
     ]
    }
   ],
   "source": [
    "# Define the network client\n",
    "from xrpl.clients import JsonRpcClient\n",
    "JSON_RPC_URL = \"https://s.altnet.rippletest.net:51234/\"\n",
    "client = JsonRpcClient(JSON_RPC_URL)\n",
    "\n",
    "\n",
    "# Create a wallet using the testnet faucet:\n",
    "# https://xrpl.org/xrp-testnet-faucet.html\n",
    "from xrpl.wallet import generate_faucet_wallet\n",
    "test_wallet = generate_faucet_wallet(client, debug=True)\n",
    "\n",
    "# Create an account str from the wallet\n",
    "test_account = test_wallet.classic_address\n",
    "\n",
    "# Derive an x-address from the classic address:\n",
    "# https://xrpaddress.info/\n",
    "from xrpl.core import addresscodec\n",
    "test_xaddress = addresscodec.classic_address_to_xaddress(test_account, tag=12345, is_test_network=True)\n",
    "print(\"\\nClassic address:\\n\\n\", test_account)\n",
    "print(\"X-address:\\n\\n\", test_xaddress)\n",
    "\n",
    "\n",
    "# Look up info about your account\n",
    "from xrpl.models.requests.account_info import AccountInfo\n",
    "acct_info = AccountInfo(\n",
    "    account=test_account,\n",
    "    ledger_index=\"validated\",\n",
    "    strict=True,\n",
    ")\n",
    "response = client.request(acct_info)\n",
    "result = response.result\n",
    "print(\"response.status: \", response.status)\n",
    "import json\n",
    "print(json.dumps(response.result, indent=4, sort_keys=True))"
   ]
  },
  {
   "cell_type": "code",
   "execution_count": null,
   "id": "6a5323bd-2565-493c-ad2e-b7385ca3780b",
   "metadata": {},
   "outputs": [],
   "source": []
  }
 ],
 "metadata": {
  "kernelspec": {
   "display_name": "Python 3 (ipykernel)",
   "language": "python",
   "name": "python3"
  },
  "language_info": {
   "codemirror_mode": {
    "name": "ipython",
    "version": 3
   },
   "file_extension": ".py",
   "mimetype": "text/x-python",
   "name": "python",
   "nbconvert_exporter": "python",
   "pygments_lexer": "ipython3",
   "version": "3.8.8"
  }
 },
 "nbformat": 4,
 "nbformat_minor": 5
}
