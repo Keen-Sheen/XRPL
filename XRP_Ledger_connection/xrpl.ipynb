{
 "cells": [
  {
   "cell_type": "markdown",
   "id": "e2ef13bb-c1ef-4c45-86cc-eb0e25887cbf",
   "metadata": {},
   "source": [
    "## Establish a connection to the XRP Public Ledger"
   ]
  },
  {
   "cell_type": "markdown",
   "id": "08e5d108-fa1f-41b9-b7ab-31a0b420d3b1",
   "metadata": {},
   "source": [
    "## Manage keys and wallets\n",
    "## `xrpl.wallet`\n",
    "* Use the xrpl.wallet module to create a wallet from a given seed or or via a Testnet faucet.\n",
    "* To create a wallet from a seed (in this case, the value generated using xrpl.keypairs):"
   ]
  },
  {
   "cell_type": "code",
   "execution_count": 1,
   "id": "11b63585-72ee-47ea-91ae-0a59cd4e3580",
   "metadata": {},
   "outputs": [],
   "source": [
    "import nest_asyncio\n",
    "nest_asyncio.apply()"
   ]
  },
  {
   "cell_type": "code",
   "execution_count": 3,
   "id": "4b91a7a2-b28e-4854-b32e-9006f6ae6ae7",
   "metadata": {},
   "outputs": [],
   "source": [
    "from xrpl.clients import JsonRpcClient\n",
    "JSON_RPC_URL = \"https://s.altnet.rippletest.net:51234\"\n",
    "client = JsonRpcClient(JSON_RPC_URL)"
   ]
  },
  {
   "cell_type": "code",
   "execution_count": 4,
   "id": "f67554d4-74c6-420c-aa92-7d75475b421b",
   "metadata": {},
   "outputs": [
    {
     "name": "stdout",
     "output_type": "stream",
     "text": [
      "Attempting to fund address rENT2aXJ6vVjGb2toVyw3M8ZVwKLMenfUm\n",
      "Faucet fund successful.\n"
     ]
    }
   ],
   "source": [
    "# Create a wallet using the testnet faucet:\n",
    "# https://xrpl.org/xrp-testnet-faucet.html\n",
    "from xrpl.wallet import generate_faucet_wallet\n",
    "test_wallet = generate_faucet_wallet(client, debug=True)"
   ]
  },
  {
   "cell_type": "markdown",
   "id": "fa8696dd-45b2-49c7-ac6b-14ba65154ae5",
   "metadata": {},
   "source": [
    "## To create a wallet from a Testnet faucet:"
   ]
  },
  {
   "cell_type": "code",
   "execution_count": 6,
   "id": "1f323658-c1f1-4679-a167-2649f9493f1a",
   "metadata": {
    "tags": []
   },
   "outputs": [
    {
     "name": "stdout",
     "output_type": "stream",
     "text": [
      "Classic address: rK1DbsArZVU85HVxuNUGDqttcEjpHhgVD5\n"
     ]
    }
   ],
   "source": [
    "test_wallet = generate_faucet_wallet(client)\n",
    "test_account = test_wallet.classic_address\n",
    "print(\"Classic address:\", test_account)"
   ]
  },
  {
   "cell_type": "markdown",
   "id": "95dd4e87-c646-4d4d-a3a5-121b11401c52",
   "metadata": {},
   "source": [
    "## xrpl.core.keypairs\n",
    "* Use the xrpl.core.keypairs module to generate seeds and derive keypairs and addresses from those seed values."
   ]
  },
  {
   "cell_type": "code",
   "execution_count": 7,
   "id": "553bf328-9321-40ad-8819-df4379191c8d",
   "metadata": {
    "tags": []
   },
   "outputs": [
    {
     "name": "stdout",
     "output_type": "stream",
     "text": [
      "Here's the public key:\n",
      "EDA1443B62734E1AFF7DBD312EF0CD9249DD82D9D96E84FDF5818F0ACB438A1246\n",
      "Here's the private key:\n",
      "ED87E38B6AA453BDC784E28C651A58F7FDDD308E9E9C46073C659F1C139728AE60\n",
      "Store this in a secure place!\n"
     ]
    }
   ],
   "source": [
    "from xrpl.core import keypairs\n",
    "seed = keypairs.generate_seed()\n",
    "public, private = keypairs.derive_keypair(seed)\n",
    "test_account = keypairs.derive_classic_address(public)\n",
    "print(\"Here's the public key:\")\n",
    "print(public)\n",
    "print(\"Here's the private key:\")\n",
    "print(private)\n",
    "print(\"Store this in a secure place!\")"
   ]
  },
  {
   "cell_type": "markdown",
   "id": "62bec555-10d5-46af-9843-4699689cc5b5",
   "metadata": {
    "tags": []
   },
   "source": [
    "# Serialize and sign transactions"
   ]
  },
  {
   "cell_type": "markdown",
   "id": "39de2914-1917-4fc7-a8e9-a7de80f53aa5",
   "metadata": {},
   "source": [
    "* First serialize data from JSON and other formats into the XRP Ledger's canonical format\n",
    "* Then to authorize the transaction by digitally signing it with the account's private key. The xrpl-py library provides several methods to simplify this process."
   ]
  },
  {
   "cell_type": "code",
   "execution_count": 8,
   "id": "5b5885bc-902d-41c4-954b-509fd568d23b",
   "metadata": {},
   "outputs": [],
   "source": [
    "from xrpl.models.transactions import Payment\n",
    "from xrpl.transaction import safe_sign_transaction, send_reliable_submission\n",
    "from xrpl.ledger import get_latest_validated_ledger_sequence\n",
    "from xrpl.account import get_next_valid_seq_number\n",
    "\n",
    "current_validated_ledger = get_latest_validated_ledger_sequence(client)\n",
    "test_wallet.sequence = get_next_valid_seq_number(test_wallet.classic_address, client)\n",
    "\n",
    "# prepare the transaction\n",
    "# the amount is expressed in drops, not XRP\n",
    "# see https://xrpl.org/basic-data-types.html#specifying-currency-amounts\n",
    "my_tx_payment = Payment(\n",
    "    account=test_wallet.classic_address,\n",
    "    amount=\"2200000\",\n",
    "    destination=\"rPT1Sjq2YGrBMTttX4GZHjKu9dyfzbpAYe\",\n",
    "    last_ledger_sequence=current_validated_ledger + 20,\n",
    "    sequence=test_wallet.sequence,\n",
    "    fee=\"10\",\n",
    ")\n",
    "# sign the transaction\n",
    "my_tx_payment_signed = safe_sign_transaction(my_tx_payment,test_wallet)\n",
    "\n",
    "# submit the transaction\n",
    "tx_response = send_reliable_submission(my_tx_payment_signed, client)"
   ]
  },
  {
   "cell_type": "markdown",
   "id": "3a49aa3a-2e5b-4b2e-acfc-7209400022a0",
   "metadata": {},
   "source": [
    "# Get fee from the XRP Ledger\n"
   ]
  },
  {
   "cell_type": "code",
   "execution_count": 9,
   "id": "25ae486c-d6e3-4c16-a085-736c29e3041c",
   "metadata": {},
   "outputs": [
    {
     "name": "stdout",
     "output_type": "stream",
     "text": [
      "10\n"
     ]
    }
   ],
   "source": [
    "# use the get_fee function\n",
    "from xrpl.ledger import get_fee\n",
    "fee = get_fee(client)\n",
    "print(fee)\n",
    "# 10"
   ]
  },
  {
   "cell_type": "code",
   "execution_count": 14,
   "id": "c295c4a4-c0b7-4532-80b9-ae5052f7b1f5",
   "metadata": {},
   "outputs": [
    {
     "name": "stdout",
     "output_type": "stream",
     "text": [
      "Payment(account='rK1DbsArZVU85HVxuNUGDqttcEjpHhgVD5', transaction_type=<TransactionType.PAYMENT: 'Payment'>, fee='10', sequence=27019112, account_txn_id=None, flags=0, last_ledger_sequence=27019315, memos=None, signers=None, source_tag=None, signing_pub_key='EDB5A7485329FF8833F5259A016D6D448FCFC35AAA2B189560910BBAEAE4D0E0EC', txn_signature='718C19B2A3E2087BF06AE2B3761ECDD2F096470C21AF8D8E6E6F4080EC50B473CDF6AEDD033186F8265EA4B83CC743D5A1998E2ADF16395B03EE4AFD7C8BAF0F', amount='2200000', destination='rPT1Sjq2YGrBMTttX4GZHjKu9dyfzbpAYe', destination_tag=None, invoice_id=None, paths=None, send_max=None, deliver_min=None)\n"
     ]
    }
   ],
   "source": [
    "from xrpl.models.transactions import Payment\n",
    "from xrpl.transaction import send_reliable_submission, safe_sign_and_autofill_transaction\n",
    "# prepare the transaction\n",
    "# the amount is expressed in drops, not XRP\n",
    "# see https://xrpl.org/basic-data-types.html#specifying-currency-amounts\n",
    "my_tx_payment = Payment(\n",
    "    account=test_wallet.classic_address,\n",
    "    amount=\"2200000\",\n",
    "    destination=\"rPT1Sjq2YGrBMTttX4GZHjKu9dyfzbpAYe\"\n",
    ")\n",
    "\n",
    "# sign the transaction with the autofill method\n",
    "# (this will auto-populate the fee, sequence, and last_ledger_sequence)\n",
    "my_tx_payment_signed = safe_sign_and_autofill_transaction(my_tx_payment, test_wallet, client)\n",
    "print(my_tx_payment_signed)\n",
    "# Payment(\n",
    "#     account='rMPUKmzmDWEX1tQhzQ8oGFNfAEhnWNFwz',\n",
    "#     transaction_type=<TransactionType.PAYMENT: 'Payment'>,\n",
    "#     fee='10',\n",
    "#     sequence=16034065,\n",
    "#     account_txn_id=None,\n",
    "#     flags=0,\n",
    "#     last_ledger_sequence=10268600,\n",
    "#     memos=None,\n",
    "#     signers=None,\n",
    "#     source_tag=None,\n",
    "#     signing_pub_key='EDD9540FA398915F0BCBD6E65579C03BE5424836CB68B7EB1D6573F2382156B444',\n",
    "#     txn_signature='938FB22AE7FE76CF26FD11F8F97668E175DFAABD2977BCA397233117E7E1C4A1E39681091CC4D6DF21403682803AB54CC21DC4FA2F6848811DEE10FFEF74D809',\n",
    "#     amount='2200000',\n",
    "#     destination='rPT1Sjq2YGrBMTttX4GZHjKu9dyfzbpAYe',\n",
    "#     destination_tag=None,\n",
    "#     invoice_id=None,\n",
    "#     paths=None,\n",
    " #    send_max=None,\n",
    " #    deliver_min=None\n",
    "# )\n",
    "\n",
    "# submit the transaction\n",
    "tx_response = send_reliable_submission(my_tx_payment_signed, client)"
   ]
  },
  {
   "cell_type": "markdown",
   "id": "2724fb82-0198-475c-8ca6-512a4b3a0c3e",
   "metadata": {},
   "source": [
    "# Subscribe to XRP ledger updates\n"
   ]
  },
  {
   "cell_type": "code",
   "execution_count": null,
   "id": "98c9d145-a83b-4d4b-98c7-5c63b4652485",
   "metadata": {
    "tags": []
   },
   "outputs": [
    {
     "name": "stdout",
     "output_type": "stream",
     "text": [
      "{'result': {'fee_base': 10, 'fee_ref': 10, 'ledger_hash': '0F0CB0B658B7FC91E62887864DD60CFC3F1E0EF220BB43707ADFAECEF8FE5099', 'ledger_index': 27019307, 'ledger_time': 703541692, 'reserve_base': 10000000, 'reserve_inc': 2000000, 'validated_ledgers': '25432110-27019307'}, 'status': 'success', 'type': 'response'}\n",
      "{'fee_base': 10, 'fee_ref': 10, 'ledger_hash': 'B676BF7AC7C2487C2D1196CA9CD15092EAF1F5AE968EE1E1227D076EDD992338', 'ledger_index': 27019308, 'ledger_time': 703541700, 'reserve_base': 10000000, 'reserve_inc': 2000000, 'txn_count': 0, 'type': 'ledgerClosed', 'validated_ledgers': '25432110-27019308'}\n",
      "{'fee_base': 10, 'fee_ref': 10, 'ledger_hash': '6A3195F78B6CA26505113F91D19AC2B4F4A54F7E40130D6C99120ADCD5953D3F', 'ledger_index': 27019309, 'ledger_time': 703541701, 'reserve_base': 10000000, 'reserve_inc': 2000000, 'txn_count': 0, 'type': 'ledgerClosed', 'validated_ledgers': '25432110-27019309'}\n",
      "{'fee_base': 10, 'fee_ref': 10, 'ledger_hash': 'D7682AF91FDFEF137AA633F1B9D2A2F615E3B268A8FF941B47CBE03A4921C6E1', 'ledger_index': 27019310, 'ledger_time': 703541702, 'reserve_base': 10000000, 'reserve_inc': 2000000, 'txn_count': 1, 'type': 'ledgerClosed', 'validated_ledgers': '25432110-27019310'}\n",
      "{'fee_base': 10, 'fee_ref': 10, 'ledger_hash': 'AFF3350F886A146B264FECDAE4DEFC452C6C065590E40044B338197C28F8DE2B', 'ledger_index': 27019311, 'ledger_time': 703541710, 'reserve_base': 10000000, 'reserve_inc': 2000000, 'txn_count': 0, 'type': 'ledgerClosed', 'validated_ledgers': '25432110-27019311'}\n",
      "{'fee_base': 10, 'fee_ref': 10, 'ledger_hash': '9CE94521009DD2C9FDF544E1980EB5A9DC5CE2A8BE29B1219B49F64E597669E1', 'ledger_index': 27019312, 'ledger_time': 703541711, 'reserve_base': 10000000, 'reserve_inc': 2000000, 'txn_count': 0, 'type': 'ledgerClosed', 'validated_ledgers': '25432110-27019312'}\n",
      "{'fee_base': 10, 'fee_ref': 10, 'ledger_hash': 'F3170503170ECDC64478AA9A8A258CBFB02AF285E6DE097B5E891524FCA83572', 'ledger_index': 27019313, 'ledger_time': 703541712, 'reserve_base': 10000000, 'reserve_inc': 2000000, 'txn_count': 1, 'type': 'ledgerClosed', 'validated_ledgers': '25432110-27019313'}\n",
      "{'fee_base': 10, 'fee_ref': 10, 'ledger_hash': '17B0E885A23B84807B1E5006C89C406A7A9D896E050B67E07870559B2A9E45DE', 'ledger_index': 27019314, 'ledger_time': 703541713, 'reserve_base': 10000000, 'reserve_inc': 2000000, 'txn_count': 0, 'type': 'ledgerClosed', 'validated_ledgers': '25432110-27019314'}\n",
      "{'fee_base': 10, 'fee_ref': 10, 'ledger_hash': 'EE4A692A5871E7107329739B7BC9F8A028D8B441F0D40DF5D7704F91F1BD6941', 'ledger_index': 27019315, 'ledger_time': 703541720, 'reserve_base': 10000000, 'reserve_inc': 2000000, 'txn_count': 16, 'type': 'ledgerClosed', 'validated_ledgers': '25432110-27019315'}\n",
      "{'fee_base': 10, 'fee_ref': 10, 'ledger_hash': '706E84913B0E2D6CBBDB9D6E33DB186CC8A8291103D5082A5E0E72FF4E9D5CEC', 'ledger_index': 27019316, 'ledger_time': 703541721, 'reserve_base': 10000000, 'reserve_inc': 2000000, 'txn_count': 10, 'type': 'ledgerClosed', 'validated_ledgers': '25432110-27019316'}\n",
      "{'fee_base': 10, 'fee_ref': 10, 'ledger_hash': '1D23FE5703F6CAE79640974045306C89BD94A0EEEF433320A7363B9B9F04941A', 'ledger_index': 27019317, 'ledger_time': 703541722, 'reserve_base': 10000000, 'reserve_inc': 2000000, 'txn_count': 1, 'type': 'ledgerClosed', 'validated_ledgers': '25432110-27019317'}\n",
      "{'fee_base': 10, 'fee_ref': 10, 'ledger_hash': '67E430081F068F968F487EBD3661F57D00C3D04646D5608F2A335E2E9D3B32B4', 'ledger_index': 27019318, 'ledger_time': 703541730, 'reserve_base': 10000000, 'reserve_inc': 2000000, 'txn_count': 5, 'type': 'ledgerClosed', 'validated_ledgers': '25432110-27019318'}\n",
      "{'fee_base': 10, 'fee_ref': 10, 'ledger_hash': 'C3CC4CFC7BA4494DB7DF34C2B3F29EA7FAA6BF88B86AB31C2D953DE390C6999F', 'ledger_index': 27019319, 'ledger_time': 703541731, 'reserve_base': 10000000, 'reserve_inc': 2000000, 'txn_count': 0, 'type': 'ledgerClosed', 'validated_ledgers': '25432110-27019319'}\n",
      "{'fee_base': 10, 'fee_ref': 10, 'ledger_hash': '2BEA5BB0CBB8413AD4FFFD2147EDC9FF88D5621E37F7527B654C6A8AA9D6F748', 'ledger_index': 27019320, 'ledger_time': 703541732, 'reserve_base': 10000000, 'reserve_inc': 2000000, 'txn_count': 0, 'type': 'ledgerClosed', 'validated_ledgers': '25432110-27019320'}\n",
      "{'fee_base': 10, 'fee_ref': 10, 'ledger_hash': 'E15FA9538025956D456883775EDCE1FF1873102EF530660C00FCA9FD5E84A0A8', 'ledger_index': 27019321, 'ledger_time': 703541740, 'reserve_base': 10000000, 'reserve_inc': 2000000, 'txn_count': 1, 'type': 'ledgerClosed', 'validated_ledgers': '25432110-27019321'}\n",
      "{'fee_base': 10, 'fee_ref': 10, 'ledger_hash': '208A6BAD171F64DA98AB9EF381B8577EE9525D2A16B3C94E794DA3728191D93E', 'ledger_index': 27019322, 'ledger_time': 703541741, 'reserve_base': 10000000, 'reserve_inc': 2000000, 'txn_count': 0, 'type': 'ledgerClosed', 'validated_ledgers': '25432110-27019322'}\n",
      "{'fee_base': 10, 'fee_ref': 10, 'ledger_hash': 'F7CBE3A622A1967EB64947BEF608381211602417EDCF980EAE01CBCED965448A', 'ledger_index': 27019323, 'ledger_time': 703541742, 'reserve_base': 10000000, 'reserve_inc': 2000000, 'txn_count': 0, 'type': 'ledgerClosed', 'validated_ledgers': '25432110-27019323'}\n",
      "{'fee_base': 10, 'fee_ref': 10, 'ledger_hash': 'A53BB0CF29FE7B40C93EBF895DED714140AD454D78D5B0C332E41416377BB691', 'ledger_index': 27019324, 'ledger_time': 703541750, 'reserve_base': 10000000, 'reserve_inc': 2000000, 'txn_count': 1, 'type': 'ledgerClosed', 'validated_ledgers': '25432110-27019324'}\n",
      "{'fee_base': 10, 'fee_ref': 10, 'ledger_hash': 'F360E6CA49CC1D3197D75280E7730ECA8D4C949C759D58DE8467B7CF737F96A8', 'ledger_index': 27019325, 'ledger_time': 703541751, 'reserve_base': 10000000, 'reserve_inc': 2000000, 'txn_count': 18, 'type': 'ledgerClosed', 'validated_ledgers': '25432110-27019325'}\n",
      "{'fee_base': 10, 'fee_ref': 10, 'ledger_hash': 'C7498A7BEF899EBA0F9EAB21078ABCE253AB1D00237D70C96F3D7718B86FCC3B', 'ledger_index': 27019326, 'ledger_time': 703541752, 'reserve_base': 10000000, 'reserve_inc': 2000000, 'txn_count': 5, 'type': 'ledgerClosed', 'validated_ledgers': '25432110-27019326'}\n",
      "{'fee_base': 10, 'fee_ref': 10, 'ledger_hash': '0377385B4184774997FAD2A313F852FD3F3CC1041BBB51EA63D11671C9B3ABB2', 'ledger_index': 27019327, 'ledger_time': 703541753, 'reserve_base': 10000000, 'reserve_inc': 2000000, 'txn_count': 0, 'type': 'ledgerClosed', 'validated_ledgers': '25432110-27019327'}\n",
      "{'fee_base': 10, 'fee_ref': 10, 'ledger_hash': 'CA86557BAE1E36F4D301C9154CE76283D8794058F5FC8E093D7D789E29F03AB0', 'ledger_index': 27019328, 'ledger_time': 703541760, 'reserve_base': 10000000, 'reserve_inc': 2000000, 'txn_count': 0, 'type': 'ledgerClosed', 'validated_ledgers': '25432110-27019328'}\n",
      "{'fee_base': 10, 'fee_ref': 10, 'ledger_hash': 'F1117F93239394ABE59B7CF218CAA65037A6CADD8E1841554EF5B7DBDB7340D4', 'ledger_index': 27019329, 'ledger_time': 703541761, 'reserve_base': 10000000, 'reserve_inc': 2000000, 'txn_count': 0, 'type': 'ledgerClosed', 'validated_ledgers': '25432110-27019329'}\n",
      "{'fee_base': 10, 'fee_ref': 10, 'ledger_hash': '80ED70AF3B63C59B322D4BE4EB3D6843CED8207EBB816CAF02D90450C580DC26', 'ledger_index': 27019330, 'ledger_time': 703541762, 'reserve_base': 10000000, 'reserve_inc': 2000000, 'txn_count': 1, 'type': 'ledgerClosed', 'validated_ledgers': '25432110-27019330'}\n",
      "{'fee_base': 10, 'fee_ref': 10, 'ledger_hash': '83FD2A4B132CC586AEAFE81A2B3A3305AB41A117728BFF0A8C7D87FDA743F04F', 'ledger_index': 27019331, 'ledger_time': 703541770, 'reserve_base': 10000000, 'reserve_inc': 2000000, 'txn_count': 0, 'type': 'ledgerClosed', 'validated_ledgers': '25432110-27019331'}\n",
      "{'fee_base': 10, 'fee_ref': 10, 'ledger_hash': 'F9E5B03CE66E4E0BA1954ED0F2B6FB8E9248C44F9991DC51C5EA7150AD354B1F', 'ledger_index': 27019332, 'ledger_time': 703541771, 'reserve_base': 10000000, 'reserve_inc': 2000000, 'txn_count': 1, 'type': 'ledgerClosed', 'validated_ledgers': '25432110-27019332'}\n",
      "{'fee_base': 10, 'fee_ref': 10, 'ledger_hash': 'B92BDE3F18B7EAD3F357454F271980D56D43A5EF18C2AEC74E013F7B8E81340C', 'ledger_index': 27019333, 'ledger_time': 703541772, 'reserve_base': 10000000, 'reserve_inc': 2000000, 'txn_count': 0, 'type': 'ledgerClosed', 'validated_ledgers': '25432110-27019333'}\n",
      "{'fee_base': 10, 'fee_ref': 10, 'ledger_hash': 'C7F283C3828D4F8F4D3DE2F363D4891D85D3E67CD3DE4A673A8B57FFB11CE5AC', 'ledger_index': 27019334, 'ledger_time': 703541780, 'reserve_base': 10000000, 'reserve_inc': 2000000, 'txn_count': 0, 'type': 'ledgerClosed', 'validated_ledgers': '25432110-27019334'}\n",
      "{'fee_base': 10, 'fee_ref': 10, 'ledger_hash': 'C262036466DA63E1467E4312B6444747BFA7C50A853DD8605F56E69AAB17FD47', 'ledger_index': 27019335, 'ledger_time': 703541781, 'reserve_base': 10000000, 'reserve_inc': 2000000, 'txn_count': 24, 'type': 'ledgerClosed', 'validated_ledgers': '25432110-27019335'}\n",
      "{'fee_base': 10, 'fee_ref': 10, 'ledger_hash': 'B56178C887024802FA9E897C8D0AD640E2ECAA4A1ADFC1DAB27F65FF9D98E9C5', 'ledger_index': 27019336, 'ledger_time': 703541782, 'reserve_base': 10000000, 'reserve_inc': 2000000, 'txn_count': 13, 'type': 'ledgerClosed', 'validated_ledgers': '25432110-27019336'}\n",
      "{'fee_base': 10, 'fee_ref': 10, 'ledger_hash': 'A74AB47B96C9BACAB96BD52DD77AA8860B4459C617D22A1B1F31B123C453DE85', 'ledger_index': 27019337, 'ledger_time': 703541783, 'reserve_base': 10000000, 'reserve_inc': 2000000, 'txn_count': 5, 'type': 'ledgerClosed', 'validated_ledgers': '25432110-27019337'}\n",
      "{'fee_base': 10, 'fee_ref': 10, 'ledger_hash': '4040F9F92422E04347336C2A8F3E29AB02BAD15D8BC4F438BBC6B526839A9194', 'ledger_index': 27019338, 'ledger_time': 703541790, 'reserve_base': 10000000, 'reserve_inc': 2000000, 'txn_count': 1, 'type': 'ledgerClosed', 'validated_ledgers': '25432110-27019338'}\n",
      "{'fee_base': 10, 'fee_ref': 10, 'ledger_hash': 'B71986177A4F16ADFD20E093DDDDF55DC3254DC08E84AC19B689D69E89694B25', 'ledger_index': 27019339, 'ledger_time': 703541791, 'reserve_base': 10000000, 'reserve_inc': 2000000, 'txn_count': 0, 'type': 'ledgerClosed', 'validated_ledgers': '25432110-27019339'}\n",
      "{'fee_base': 10, 'fee_ref': 10, 'ledger_hash': '906AC40646D5199558999AB8D2FBF8CFB804589942A39D3855C261B107ED3881', 'ledger_index': 27019340, 'ledger_time': 703541792, 'reserve_base': 10000000, 'reserve_inc': 2000000, 'txn_count': 0, 'type': 'ledgerClosed', 'validated_ledgers': '25432110-27019340'}\n",
      "{'fee_base': 10, 'fee_ref': 10, 'ledger_hash': '38BDB7159ECD591D0FC3887E02E919CD98C83FE1A434ADF723051E18E8083667', 'ledger_index': 27019341, 'ledger_time': 703541800, 'reserve_base': 10000000, 'reserve_inc': 2000000, 'txn_count': 0, 'type': 'ledgerClosed', 'validated_ledgers': '25432110-27019341'}\n",
      "{'fee_base': 10, 'fee_ref': 10, 'ledger_hash': 'EE59E8AAA162AA428B3565BA6E09E655F2331EDB1E1CB5EFA3E8FE0BC0EF477E', 'ledger_index': 27019342, 'ledger_time': 703541801, 'reserve_base': 10000000, 'reserve_inc': 2000000, 'txn_count': 1, 'type': 'ledgerClosed', 'validated_ledgers': '25432110-27019342'}\n",
      "{'fee_base': 10, 'fee_ref': 10, 'ledger_hash': '53AAA95ABE2AD39064E20D371F50273515D37AC50084AED66593D8834B126745', 'ledger_index': 27019343, 'ledger_time': 703541802, 'reserve_base': 10000000, 'reserve_inc': 2000000, 'txn_count': 0, 'type': 'ledgerClosed', 'validated_ledgers': '25432110-27019343'}\n",
      "{'fee_base': 10, 'fee_ref': 10, 'ledger_hash': 'CE96FB6852ED590FFAB3D3CBD5619CB46D9760D3F69664D62D41854EBDC72984', 'ledger_index': 27019344, 'ledger_time': 703541810, 'reserve_base': 10000000, 'reserve_inc': 2000000, 'txn_count': 1, 'type': 'ledgerClosed', 'validated_ledgers': '25432110-27019344'}\n",
      "{'fee_base': 10, 'fee_ref': 10, 'ledger_hash': 'D472BFDECC5BA95A9B7B0996516BBC77BB2EBEA79319DDD2BB17956A2E469041', 'ledger_index': 27019345, 'ledger_time': 703541811, 'reserve_base': 10000000, 'reserve_inc': 2000000, 'txn_count': 23, 'type': 'ledgerClosed', 'validated_ledgers': '25432110-27019345'}\n",
      "{'fee_base': 10, 'fee_ref': 10, 'ledger_hash': '350C623188A14414B2C5E6E4BE3F3C626CACA48725DB0D868F759533831CBF24', 'ledger_index': 27019346, 'ledger_time': 703541812, 'reserve_base': 10000000, 'reserve_inc': 2000000, 'txn_count': 1, 'type': 'ledgerClosed', 'validated_ledgers': '25432110-27019346'}\n",
      "{'fee_base': 10, 'fee_ref': 10, 'ledger_hash': '31196EF46BC4AC4330753512B0937F94EF2551251D370B4E77446CFD3ED82A7A', 'ledger_index': 27019347, 'ledger_time': 703541820, 'reserve_base': 10000000, 'reserve_inc': 2000000, 'txn_count': 0, 'type': 'ledgerClosed', 'validated_ledgers': '25432110-27019347'}\n",
      "{'fee_base': 10, 'fee_ref': 10, 'ledger_hash': '134FF3ED1214443A2BFBFB35F9EFA1CB6455BD6387945CCE1C608C9BE3DC33DC', 'ledger_index': 27019348, 'ledger_time': 703541821, 'reserve_base': 10000000, 'reserve_inc': 2000000, 'txn_count': 0, 'type': 'ledgerClosed', 'validated_ledgers': '25432110-27019348'}\n",
      "{'fee_base': 10, 'fee_ref': 10, 'ledger_hash': '84034AC9C8F4769A40912872B36C7BF240829C0B9A94295CB60278114BE3E2CB', 'ledger_index': 27019349, 'ledger_time': 703541822, 'reserve_base': 10000000, 'reserve_inc': 2000000, 'txn_count': 0, 'type': 'ledgerClosed', 'validated_ledgers': '25432110-27019349'}\n",
      "{'fee_base': 10, 'fee_ref': 10, 'ledger_hash': 'A4D8866BF55FC99E859199B3082E9F31D18A846F23C6811AB02DF6DAB865A7DA', 'ledger_index': 27019350, 'ledger_time': 703541823, 'reserve_base': 10000000, 'reserve_inc': 2000000, 'txn_count': 0, 'type': 'ledgerClosed', 'validated_ledgers': '25432110-27019350'}\n",
      "{'fee_base': 10, 'fee_ref': 10, 'ledger_hash': '530E9004A5B81991E421717AF9E00096C1F6CAF80C2B21961CE8249F5B982AC6', 'ledger_index': 27019351, 'ledger_time': 703541830, 'reserve_base': 10000000, 'reserve_inc': 2000000, 'txn_count': 0, 'type': 'ledgerClosed', 'validated_ledgers': '25432110-27019351'}\n",
      "{'fee_base': 10, 'fee_ref': 10, 'ledger_hash': '51774B641009231490AC744822B31C1AAAACB3E649F7BD4849B6803FFCE4D588', 'ledger_index': 27019352, 'ledger_time': 703541831, 'reserve_base': 10000000, 'reserve_inc': 2000000, 'txn_count': 0, 'type': 'ledgerClosed', 'validated_ledgers': '25432110-27019352'}\n",
      "{'fee_base': 10, 'fee_ref': 10, 'ledger_hash': 'D88E7ADB263175BF90DEEC20A37EEFAB7F9C870F13CBA0899D178179EC3C80CF', 'ledger_index': 27019353, 'ledger_time': 703541832, 'reserve_base': 10000000, 'reserve_inc': 2000000, 'txn_count': 1, 'type': 'ledgerClosed', 'validated_ledgers': '25432110-27019353'}\n",
      "{'fee_base': 10, 'fee_ref': 10, 'ledger_hash': '9C3014A70ADA2BCCA9456B1A0AE0A9DB4DFF18065362CE4D38C5BB72A3CCF45F', 'ledger_index': 27019354, 'ledger_time': 703541840, 'reserve_base': 10000000, 'reserve_inc': 2000000, 'txn_count': 3, 'type': 'ledgerClosed', 'validated_ledgers': '25432110-27019354'}\n",
      "{'fee_base': 10, 'fee_ref': 10, 'ledger_hash': '821ADD34A6CC71AE37DA2A70747952BD64F44837192DC7B04BE6392216A7E388', 'ledger_index': 27019355, 'ledger_time': 703541841, 'reserve_base': 10000000, 'reserve_inc': 2000000, 'txn_count': 21, 'type': 'ledgerClosed', 'validated_ledgers': '25432110-27019355'}\n",
      "{'fee_base': 10, 'fee_ref': 10, 'ledger_hash': 'EC856548F5E9A75B8C195E65AC860E8EE4A9EE6562E87586518186CD51320FFF', 'ledger_index': 27019356, 'ledger_time': 703541842, 'reserve_base': 10000000, 'reserve_inc': 2000000, 'txn_count': 13, 'type': 'ledgerClosed', 'validated_ledgers': '25432110-27019356'}\n",
      "{'fee_base': 10, 'fee_ref': 10, 'ledger_hash': 'E8BABBD66C68B374F1A047FEE6A644397D7D13EDCA96F2913CD86C0AA10F5876', 'ledger_index': 27019357, 'ledger_time': 703541850, 'reserve_base': 10000000, 'reserve_inc': 2000000, 'txn_count': 1, 'type': 'ledgerClosed', 'validated_ledgers': '25432110-27019357'}\n",
      "{'fee_base': 10, 'fee_ref': 10, 'ledger_hash': 'E1E5C33330104B9416A194B2F59858A013B0ADD450F5597ACCA09FD3983AC903', 'ledger_index': 27019358, 'ledger_time': 703541851, 'reserve_base': 10000000, 'reserve_inc': 2000000, 'txn_count': 5, 'type': 'ledgerClosed', 'validated_ledgers': '25432110-27019358'}\n",
      "{'fee_base': 10, 'fee_ref': 10, 'ledger_hash': 'D379534653FED4BFB2C70E911A7C833B3CB5FC8AB186F53D867E45C5C22DC3EB', 'ledger_index': 27019359, 'ledger_time': 703541852, 'reserve_base': 10000000, 'reserve_inc': 2000000, 'txn_count': 0, 'type': 'ledgerClosed', 'validated_ledgers': '25432110-27019359'}\n",
      "{'fee_base': 10, 'fee_ref': 10, 'ledger_hash': 'DF82E205D30FF0AD8DD3A3ECD4B316FD3898F62BCE418954498EE77AEC16BD46', 'ledger_index': 27019360, 'ledger_time': 703541860, 'reserve_base': 10000000, 'reserve_inc': 2000000, 'txn_count': 0, 'type': 'ledgerClosed', 'validated_ledgers': '25432110-27019360'}\n",
      "{'fee_base': 10, 'fee_ref': 10, 'ledger_hash': '02858C7AA50EB520025B998B7323D4A9B684A6794919ADA8D23A5F85855BF604', 'ledger_index': 27019361, 'ledger_time': 703541861, 'reserve_base': 10000000, 'reserve_inc': 2000000, 'txn_count': 0, 'type': 'ledgerClosed', 'validated_ledgers': '25432110-27019361'}\n",
      "{'fee_base': 10, 'fee_ref': 10, 'ledger_hash': '074176A68A84C507D71E24581A11773917654E727CCA52289B0A8773101539C3', 'ledger_index': 27019362, 'ledger_time': 703541862, 'reserve_base': 10000000, 'reserve_inc': 2000000, 'txn_count': 0, 'type': 'ledgerClosed', 'validated_ledgers': '25432110-27019362'}\n",
      "{'fee_base': 10, 'fee_ref': 10, 'ledger_hash': '50DF6192B06D27255BB6E9A3405FC0EEC8FEFD6F14208684E0D00D79D044064F', 'ledger_index': 27019363, 'ledger_time': 703541863, 'reserve_base': 10000000, 'reserve_inc': 2000000, 'txn_count': 0, 'type': 'ledgerClosed', 'validated_ledgers': '25432110-27019363'}\n",
      "{'fee_base': 10, 'fee_ref': 10, 'ledger_hash': '54A72E7FF2715811FB4A07B416029D244CC00CA56FC1E73ED656BD3A1D6BB3A7', 'ledger_index': 27019364, 'ledger_time': 703541870, 'reserve_base': 10000000, 'reserve_inc': 2000000, 'txn_count': 14, 'type': 'ledgerClosed', 'validated_ledgers': '25432110-27019364'}\n",
      "{'fee_base': 10, 'fee_ref': 10, 'ledger_hash': '691B644EB791D341C4D45DEE1ACBB4E976EEFF0CC4EF09AD86656ACA93F9557B', 'ledger_index': 27019365, 'ledger_time': 703541871, 'reserve_base': 10000000, 'reserve_inc': 2000000, 'txn_count': 10, 'type': 'ledgerClosed', 'validated_ledgers': '25432110-27019365'}\n",
      "{'fee_base': 10, 'fee_ref': 10, 'ledger_hash': '39D99CA4157EC2EDF40B77A89119EF71E6F99B6DCEB13AD253013794C9639B22', 'ledger_index': 27019366, 'ledger_time': 703541872, 'reserve_base': 10000000, 'reserve_inc': 2000000, 'txn_count': 0, 'type': 'ledgerClosed', 'validated_ledgers': '25432110-27019366'}\n",
      "{'fee_base': 10, 'fee_ref': 10, 'ledger_hash': '14F91E0D19E64FAFE516A1B466E8AA3C6C7D45A0C8E8A0F777C4A02C9853BB45', 'ledger_index': 27019367, 'ledger_time': 703541880, 'reserve_base': 10000000, 'reserve_inc': 2000000, 'txn_count': 0, 'type': 'ledgerClosed', 'validated_ledgers': '25432110-27019367'}\n",
      "{'fee_base': 10, 'fee_ref': 10, 'ledger_hash': '505CFA780DD21FE8224585CCD7EAD5319C4DBBE1600325963CEFF7F19E0C334F', 'ledger_index': 27019368, 'ledger_time': 703541881, 'reserve_base': 10000000, 'reserve_inc': 2000000, 'txn_count': 1, 'type': 'ledgerClosed', 'validated_ledgers': '25432110-27019368'}\n",
      "{'fee_base': 10, 'fee_ref': 10, 'ledger_hash': 'EF08A40E3BB917312C01E548147E45165C02533D0A5C06CC60DA0E9B1C4EEEE8', 'ledger_index': 27019369, 'ledger_time': 703541882, 'reserve_base': 10000000, 'reserve_inc': 2000000, 'txn_count': 1, 'type': 'ledgerClosed', 'validated_ledgers': '25432110-27019369'}\n",
      "{'fee_base': 10, 'fee_ref': 10, 'ledger_hash': '393ED0D9073281B907C271A6281C92269848843BDF20C826BD3C4BDC39417465', 'ledger_index': 27019370, 'ledger_time': 703541890, 'reserve_base': 10000000, 'reserve_inc': 2000000, 'txn_count': 0, 'type': 'ledgerClosed', 'validated_ledgers': '25432110-27019370'}\n",
      "{'fee_base': 10, 'fee_ref': 10, 'ledger_hash': 'C3A31121034C551568C0EFE2569CF183BF985D8E507FE7002E8A478E3509F64D', 'ledger_index': 27019371, 'ledger_time': 703541891, 'reserve_base': 10000000, 'reserve_inc': 2000000, 'txn_count': 0, 'type': 'ledgerClosed', 'validated_ledgers': '25432110-27019371'}\n",
      "{'fee_base': 10, 'fee_ref': 10, 'ledger_hash': '644116DF53BC43A5ECA3758D078960BC7AFBA1B7802B5B0FC33C606FD71FAD93', 'ledger_index': 27019372, 'ledger_time': 703541892, 'reserve_base': 10000000, 'reserve_inc': 2000000, 'txn_count': 0, 'type': 'ledgerClosed', 'validated_ledgers': '25432110-27019372'}\n",
      "{'fee_base': 10, 'fee_ref': 10, 'ledger_hash': '2B633FFFE3121ED8728442F73A5017D0F0E46721F40B1046FE887A9209B7B6EE', 'ledger_index': 27019373, 'ledger_time': 703541893, 'reserve_base': 10000000, 'reserve_inc': 2000000, 'txn_count': 0, 'type': 'ledgerClosed', 'validated_ledgers': '25432110-27019373'}\n",
      "{'fee_base': 10, 'fee_ref': 10, 'ledger_hash': 'A3E5273CE1CDD3AA587EA840189CE43E4351768CE16236FEBB05EABD0C79FEB7', 'ledger_index': 27019374, 'ledger_time': 703541900, 'reserve_base': 10000000, 'reserve_inc': 2000000, 'txn_count': 14, 'type': 'ledgerClosed', 'validated_ledgers': '25432110-27019374'}\n",
      "{'fee_base': 10, 'fee_ref': 10, 'ledger_hash': '6E7894D09DC78BFD11E050C90D64B052155D16E5A05574D43A6AA1246543E2D6', 'ledger_index': 27019375, 'ledger_time': 703541901, 'reserve_base': 10000000, 'reserve_inc': 2000000, 'txn_count': 12, 'type': 'ledgerClosed', 'validated_ledgers': '25432110-27019375'}\n",
      "{'fee_base': 10, 'fee_ref': 10, 'ledger_hash': 'BF1CB9E91129A7330493AF3C0A018CC2D1E6587C3CA196E093304D5002C5C1AA', 'ledger_index': 27019376, 'ledger_time': 703541902, 'reserve_base': 10000000, 'reserve_inc': 2000000, 'txn_count': 3, 'type': 'ledgerClosed', 'validated_ledgers': '25432110-27019376'}\n",
      "{'fee_base': 10, 'fee_ref': 10, 'ledger_hash': 'DCCDD28A32958BB06966ADD726553DC2E8421A3543AFFA5397695F695F612349', 'ledger_index': 27019377, 'ledger_time': 703541910, 'reserve_base': 10000000, 'reserve_inc': 2000000, 'txn_count': 10, 'type': 'ledgerClosed', 'validated_ledgers': '25432110-27019377'}\n",
      "{'fee_base': 10, 'fee_ref': 10, 'ledger_hash': 'DCD2FBEEE205047076E2876B797A569E0F2FE0288D715FB0BB845D20EC38C64C', 'ledger_index': 27019378, 'ledger_time': 703541911, 'reserve_base': 10000000, 'reserve_inc': 2000000, 'txn_count': 0, 'type': 'ledgerClosed', 'validated_ledgers': '25432110-27019378'}\n",
      "{'fee_base': 10, 'fee_ref': 10, 'ledger_hash': '87A92C6F703243AB485CB84364BBD4C1A7431E8AE9F71151ADF6FC9444F92255', 'ledger_index': 27019379, 'ledger_time': 703541912, 'reserve_base': 10000000, 'reserve_inc': 2000000, 'txn_count': 1, 'type': 'ledgerClosed', 'validated_ledgers': '25432110-27019379'}\n",
      "{'fee_base': 10, 'fee_ref': 10, 'ledger_hash': '5440AD3BF7841245EC15B35635747FC269BD2A1DD6F20E919714FB7421DADA81', 'ledger_index': 27019380, 'ledger_time': 703541920, 'reserve_base': 10000000, 'reserve_inc': 2000000, 'txn_count': 0, 'type': 'ledgerClosed', 'validated_ledgers': '25432110-27019380'}\n",
      "{'fee_base': 10, 'fee_ref': 10, 'ledger_hash': 'D8788F9845606DA3133463C4A52C96714D92136DC5C2EE989CF17FA555988629', 'ledger_index': 27019381, 'ledger_time': 703541921, 'reserve_base': 10000000, 'reserve_inc': 2000000, 'txn_count': 1, 'type': 'ledgerClosed', 'validated_ledgers': '25432110-27019381'}\n",
      "{'fee_base': 10, 'fee_ref': 10, 'ledger_hash': '76FDCB71D777D073749F1443E5F7F7D84741CB8D53F58535E563F48852C1B30F', 'ledger_index': 27019382, 'ledger_time': 703541922, 'reserve_base': 10000000, 'reserve_inc': 2000000, 'txn_count': 1, 'type': 'ledgerClosed', 'validated_ledgers': '25432110-27019382'}\n",
      "{'fee_base': 10, 'fee_ref': 10, 'ledger_hash': '60E688CD608C9EEBC9BE13C26E62B9F21066717A42EA6BEDDCF52FCE1488E45E', 'ledger_index': 27019383, 'ledger_time': 703541930, 'reserve_base': 10000000, 'reserve_inc': 2000000, 'txn_count': 0, 'type': 'ledgerClosed', 'validated_ledgers': '25432110-27019383'}\n",
      "{'fee_base': 10, 'fee_ref': 10, 'ledger_hash': '93F6ACAEBCF084FB9FFBE21FDA9F4C7297F698E171C71AE03E9D4C38968A1677', 'ledger_index': 27019384, 'ledger_time': 703541931, 'reserve_base': 10000000, 'reserve_inc': 2000000, 'txn_count': 2, 'type': 'ledgerClosed', 'validated_ledgers': '25432110-27019384'}\n",
      "{'fee_base': 10, 'fee_ref': 10, 'ledger_hash': '9852E34B3639A204C02F54579CD68C97D00B2FE16007A061B147A2EF60437ACC', 'ledger_index': 27019385, 'ledger_time': 703541932, 'reserve_base': 10000000, 'reserve_inc': 2000000, 'txn_count': 22, 'type': 'ledgerClosed', 'validated_ledgers': '25432110-27019385'}\n",
      "{'fee_base': 10, 'fee_ref': 10, 'ledger_hash': '06B52FE1320F56CA86F60FA010792FF77C6975335FC5F9526F69C56741A728D2', 'ledger_index': 27019386, 'ledger_time': 703541933, 'reserve_base': 10000000, 'reserve_inc': 2000000, 'txn_count': 22, 'type': 'ledgerClosed', 'validated_ledgers': '25432110-27019386'}\n",
      "{'fee_base': 10, 'fee_ref': 10, 'ledger_hash': 'AD56B136788A3DAC55B6D671E94E700D71F8BD3B81F6B0FA4572F4B88FA25253', 'ledger_index': 27019387, 'ledger_time': 703541940, 'reserve_base': 10000000, 'reserve_inc': 2000000, 'txn_count': 1, 'type': 'ledgerClosed', 'validated_ledgers': '25432110-27019387'}\n",
      "{'fee_base': 10, 'fee_ref': 10, 'ledger_hash': '9C349422A016ADF2525F52B6370C4F5C66146E905AF3F3EBB524C2EC136BA2D3', 'ledger_index': 27019388, 'ledger_time': 703541941, 'reserve_base': 10000000, 'reserve_inc': 2000000, 'txn_count': 0, 'type': 'ledgerClosed', 'validated_ledgers': '25432110-27019388'}\n",
      "{'fee_base': 10, 'fee_ref': 10, 'ledger_hash': '34CB92759367F44B45BC0B5BF8ED85221AC873122ECE967AB0EF9C39D2E87761', 'ledger_index': 27019389, 'ledger_time': 703541942, 'reserve_base': 10000000, 'reserve_inc': 2000000, 'txn_count': 0, 'type': 'ledgerClosed', 'validated_ledgers': '25432110-27019389'}\n",
      "{'fee_base': 10, 'fee_ref': 10, 'ledger_hash': 'F212958F01D0EC453814017A2F9B8EDBC1A7BCCDF89E9E7ACD47803B21742D35', 'ledger_index': 27019390, 'ledger_time': 703541950, 'reserve_base': 10000000, 'reserve_inc': 2000000, 'txn_count': 0, 'type': 'ledgerClosed', 'validated_ledgers': '25432110-27019390'}\n",
      "{'fee_base': 10, 'fee_ref': 10, 'ledger_hash': '0C62899D6EDA11B027965BC603E5952E0EC6BDA18D3B9ACF3A8A6BC5EC79654C', 'ledger_index': 27019391, 'ledger_time': 703541951, 'reserve_base': 10000000, 'reserve_inc': 2000000, 'txn_count': 1, 'type': 'ledgerClosed', 'validated_ledgers': '25432110-27019391'}\n",
      "{'fee_base': 10, 'fee_ref': 10, 'ledger_hash': 'D4C281E5486BEAB1D7FA46FF3ED90FA837EA28057EE2CD109805B423AF8A00CA', 'ledger_index': 27019392, 'ledger_time': 703541952, 'reserve_base': 10000000, 'reserve_inc': 2000000, 'txn_count': 0, 'type': 'ledgerClosed', 'validated_ledgers': '25432110-27019392'}\n",
      "{'fee_base': 10, 'fee_ref': 10, 'ledger_hash': '6477E6167311891C813D9A1128143ACAA163C7D148F96D4FA51588EFE2E5832C', 'ledger_index': 27019393, 'ledger_time': 703541960, 'reserve_base': 10000000, 'reserve_inc': 2000000, 'txn_count': 0, 'type': 'ledgerClosed', 'validated_ledgers': '25432110-27019393'}\n",
      "{'fee_base': 10, 'fee_ref': 10, 'ledger_hash': '9B4618E89A35FAA74B07FAF75570EBCCC2D565E70280658DE2956CFF09BAADAD', 'ledger_index': 27019394, 'ledger_time': 703541961, 'reserve_base': 10000000, 'reserve_inc': 2000000, 'txn_count': 33, 'type': 'ledgerClosed', 'validated_ledgers': '25432110-27019394'}\n",
      "{'fee_base': 10, 'fee_ref': 10, 'ledger_hash': '8BC41BCC5EC3732DF3C213436B495FE45E88A1CA52E33391D2A83C4FE0CF4099', 'ledger_index': 27019395, 'ledger_time': 703541962, 'reserve_base': 10000000, 'reserve_inc': 2000000, 'txn_count': 3, 'type': 'ledgerClosed', 'validated_ledgers': '25432110-27019395'}\n"
     ]
    }
   ],
   "source": [
    "# Send subscribe and unsubscribe requests using the WebSocket Network Client.\n",
    "from xrpl.clients import WebsocketClient\n",
    "url = \"wss://s.altnet.rippletest.net/\"\n",
    "from xrpl.models.requests import Subscribe, StreamParameter\n",
    "req = Subscribe(streams=[StreamParameter.LEDGER])\n",
    "# NOTE: this code will run forever without a timeout, until the process is killed\n",
    "with WebsocketClient(url) as client:\n",
    "    client.send(req)\n",
    "    for message in client:\n",
    "        print(message)\n",
    "# {'result': {'fee_base': 10, 'fee_ref': 10, 'ledger_hash': '7CD50477F23FF158B430772D8E82A961376A7B40E13C695AA849811EDF66C5C0', 'ledger_index': 18183504, 'ledger_time': 676412962, 'reserve_base': 20000000, 'reserve_inc': 5000000, 'validated_ledgers': '17469391-18183504'}, 'status': 'success', 'type': 'response'}\n",
    "# {'fee_base': 10, 'fee_ref': 10, 'ledger_hash': 'BAA743DABD168BD434804416C8087B7BDEF7E6D7EAD412B9102281DD83B10D00', 'ledger_index': 18183505, 'ledger_time': 676412970, 'reserve_base': 20000000, 'reserve_inc': 5000000, 'txn_count': 0, 'type': 'ledgerClosed', 'validated_ledgers': '17469391-18183505'}\n",
    "# {'fee_base': 10, 'fee_ref': 10, 'ledger_hash': 'D8227DAF8F745AE3F907B251D40B4081E019D013ABC23B68C0B1431DBADA1A46', 'ledger_index': 18183506, 'ledger_time': 676412971, 'reserve_base': 20000000, 'reserve_inc': 5000000, 'txn_count': 0, 'type': 'ledgerClosed', 'validated_ledgers': '17469391-18183506'}\n",
    "# {'fee_base': 10, 'fee_ref': 10, 'ledger_hash': 'CFC412B6DDB9A402662832A781C23F0F2E842EAE6CFC539FEEB287318092C0DE', 'ledger_index': 18183507, 'ledger_time': 676412972, 'reserve_base': 20000000, 'reserve_inc': 5000000, 'txn_count': 0, 'type': 'ledgerClosed', 'validated_ledgers': '17469391-18183507'}"
   ]
  },
  {
   "cell_type": "code",
   "execution_count": null,
   "id": "632e79ad-7a21-4d9c-b873-98e1b84fb040",
   "metadata": {},
   "outputs": [],
   "source": []
  }
 ],
 "metadata": {
  "kernelspec": {
   "display_name": "Python 3 (ipykernel)",
   "language": "python",
   "name": "python3"
  },
  "language_info": {
   "codemirror_mode": {
    "name": "ipython",
    "version": 3
   },
   "file_extension": ".py",
   "mimetype": "text/x-python",
   "name": "python",
   "nbconvert_exporter": "python",
   "pygments_lexer": "ipython3",
   "version": "3.8.8"
  }
 },
 "nbformat": 4,
 "nbformat_minor": 5
}
