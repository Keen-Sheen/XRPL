{
 "cells": [
  {
   "cell_type": "code",
   "execution_count": 12,
   "id": "ec478299-f783-4ad0-bbe7-4d6e697d6022",
   "metadata": {},
   "outputs": [],
   "source": [
    "import xrpl\n",
    "import nest_asyncio\n",
    "import xrpl\n",
    "nest_asyncio.apply()\n",
    "test_url = 'https://s.altnet.rippletest.net:51234'\n",
    "client = xrpl.clients.JsonRpcClient(test_url)"
   ]
  },
  {
   "cell_type": "code",
   "execution_count": 13,
   "id": "54bee5ce-35d9-419f-a24b-80800cdc4594",
   "metadata": {},
   "outputs": [
    {
     "name": "stdout",
     "output_type": "stream",
     "text": [
      "Attempting to fund address rsaFWKZussvevjf9xojJhspKMivxwUZxwa\n",
      "Faucet fund successful.\n"
     ]
    }
   ],
   "source": [
    "# Create a wallet using the testnet faucet:\n",
    "# https://xrpl.org/xrp-testnet-faucet.html\n",
    "from xrpl.wallet import generate_faucet_wallet\n",
    "test_wallet = generate_faucet_wallet(client, debug=True)"
   ]
  },
  {
   "cell_type": "code",
   "execution_count": 14,
   "id": "cb25ae4d-5225-4ac0-8891-43ce3356d655",
   "metadata": {},
   "outputs": [
    {
     "name": "stdout",
     "output_type": "stream",
     "text": [
      "Classic address: rw9pCKzRPoPiN9CtwNbbV3Krcm52d3jTyE\n"
     ]
    }
   ],
   "source": [
    "test_wallet = generate_faucet_wallet(client)\n",
    "test_account = test_wallet.classic_address\n",
    "print(\"Classic address:\", test_account)"
   ]
  },
  {
   "cell_type": "code",
   "execution_count": 15,
   "id": "fff104ff-854a-44f8-9bad-0ee88e97a71a",
   "metadata": {},
   "outputs": [
    {
     "name": "stdout",
     "output_type": "stream",
     "text": [
      "Here's the public key:\n",
      "ED4DA47B3FA16F567FB7E3057C1B218546A90BF4EB538571158EF68047618FE6A0\n",
      "Here's the private key:\n",
      "EDC9BE8E9492CBDA4ED0FA4D56821181A833249E961F613291C92AD25D5947D9CE\n",
      "Store this in a secure place!\n"
     ]
    }
   ],
   "source": [
    "from xrpl.core import keypairs\n",
    "seed = keypairs.generate_seed()\n",
    "public, private = keypairs.derive_keypair(seed)\n",
    "test_account = keypairs.derive_classic_address(public)\n",
    "print(\"Here's the public key:\")\n",
    "print(public)\n",
    "print(\"Here's the private key:\")\n",
    "print(private)\n",
    "print(\"Store this in a secure place!\")"
   ]
  },
  {
   "cell_type": "code",
   "execution_count": 18,
   "id": "e4a7fea9-7420-4cc0-af49-2c8a1c54a155",
   "metadata": {
    "collapsed": true,
    "jupyter": {
     "outputs_hidden": true
    },
    "tags": []
   },
   "outputs": [
    {
     "ename": "AttributeError",
     "evalue": "'JsonRpcClient' object has no attribute 'connect'",
     "output_type": "error",
     "traceback": [
      "\u001b[1;31m---------------------------------------------------------------------------\u001b[0m",
      "\u001b[1;31mAttributeError\u001b[0m                            Traceback (most recent call last)",
      "\u001b[1;32m~\\AppData\\Local\\Temp/ipykernel_10452/427580893.py\u001b[0m in \u001b[0;36m<module>\u001b[1;34m\u001b[0m\n\u001b[0;32m      3\u001b[0m     \u001b[0mclient\u001b[0m\u001b[1;33m=\u001b[0m\u001b[0mnew\u001b[0m\u001b[1;33m,\u001b[0m\u001b[1;33m\u001b[0m\u001b[1;33m\u001b[0m\u001b[0m\n\u001b[0;32m      4\u001b[0m     \u001b[0mxrpl\u001b[0m\u001b[1;33m.\u001b[0m\u001b[0mClient\u001b[0m\u001b[1;33m(\u001b[0m\u001b[1;34m'https://s.altnet.rippletest.net:51234'\u001b[0m\u001b[1;33m)\u001b[0m\u001b[1;33m,\u001b[0m\u001b[1;33m\u001b[0m\u001b[1;33m\u001b[0m\u001b[0m\n\u001b[1;32m----> 5\u001b[1;33m \u001b[1;32mawait\u001b[0m \u001b[0mclient\u001b[0m\u001b[1;33m.\u001b[0m\u001b[0mconnect\u001b[0m\u001b[1;33m(\u001b[0m\u001b[1;33m)\u001b[0m\u001b[1;33m,\u001b[0m\u001b[1;33m\u001b[0m\u001b[1;33m\u001b[0m\u001b[0m\n\u001b[0m\u001b[0;32m      6\u001b[0m \u001b[0mprint\u001b[0m\u001b[1;33m(\u001b[0m\u001b[1;34m\"Connected to devnet\"\u001b[0m\u001b[1;33m)\u001b[0m\u001b[1;33m\u001b[0m\u001b[1;33m\u001b[0m\u001b[0m\n",
      "\u001b[1;31mAttributeError\u001b[0m: 'JsonRpcClient' object has no attribute 'connect'"
     ]
    }
   ],
   "source": [
    "async def mintToken(): \n",
    "    wallet=xrpl.Wallet.fromSeed(secret.value),\n",
    "    client=new,\n",
    "    xrpl.Client('https://s.altnet.rippletest.net:51234'),\n",
    "await client.connect(),\n",
    "print(\"Connected to devnet\")\n"
   ]
  }
 ],
 "metadata": {
  "kernelspec": {
   "display_name": "Python 3 (ipykernel)",
   "language": "python",
   "name": "python3"
  },
  "language_info": {
   "codemirror_mode": {
    "name": "ipython",
    "version": 3
   },
   "file_extension": ".py",
   "mimetype": "text/x-python",
   "name": "python",
   "nbconvert_exporter": "python",
   "pygments_lexer": "ipython3",
   "version": "3.8.8"
  }
 },
 "nbformat": 4,
 "nbformat_minor": 5
}
