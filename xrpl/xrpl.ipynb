{
 "cells": [
  {
   "cell_type": "code",
   "execution_count": 27,
   "id": "11b63585-72ee-47ea-91ae-0a59cd4e3580",
   "metadata": {},
   "outputs": [],
   "source": [
    "import nest_asyncio\n",
    "nest_asyncio.apply()"
   ]
  },
  {
   "cell_type": "code",
   "execution_count": 28,
   "id": "6c7b8fe5-b9f9-449a-aeb1-7fd0cb11b215",
   "metadata": {
    "tags": []
   },
   "outputs": [
    {
     "name": "stdout",
     "output_type": "stream",
     "text": [
      "Requirement already satisfied: xrpl-py in c:\\users\\rlkee\\anaconda3\\lib\\site-packages (1.4.0)\n",
      "Requirement already satisfied: typing-extensions<4.0.0,>=3.7.4 in c:\\users\\rlkee\\anaconda3\\lib\\site-packages (from xrpl-py) (3.10.0.2)\n",
      "Requirement already satisfied: base58<3.0.0,>=2.1.0 in c:\\users\\rlkee\\anaconda3\\lib\\site-packages (from xrpl-py) (2.1.1)\n",
      "Requirement already satisfied: httpx<0.19.0,>=0.18.1 in c:\\users\\rlkee\\anaconda3\\lib\\site-packages (from xrpl-py) (0.18.2)\n",
      "Requirement already satisfied: ECPy<2.0.0,>=1.2.5 in c:\\users\\rlkee\\anaconda3\\lib\\site-packages (from xrpl-py) (1.2.5)\n",
      "Requirement already satisfied: websockets<11.0,>=9.0.1 in c:\\users\\rlkee\\anaconda3\\lib\\site-packages (from xrpl-py) (9.1)\n",
      "Requirement already satisfied: certifi in c:\\users\\rlkee\\anaconda3\\lib\\site-packages (from httpx<0.19.0,>=0.18.1->xrpl-py) (2021.10.8)\n",
      "Requirement already satisfied: rfc3986[idna2008]<2,>=1.3 in c:\\users\\rlkee\\anaconda3\\lib\\site-packages (from httpx<0.19.0,>=0.18.1->xrpl-py) (1.5.0)\n",
      "Requirement already satisfied: sniffio in c:\\users\\rlkee\\anaconda3\\lib\\site-packages (from httpx<0.19.0,>=0.18.1->xrpl-py) (1.2.0)\n",
      "Requirement already satisfied: httpcore<0.14.0,>=0.13.3 in c:\\users\\rlkee\\anaconda3\\lib\\site-packages (from httpx<0.19.0,>=0.18.1->xrpl-py) (0.13.7)\n",
      "Requirement already satisfied: h11<0.13,>=0.11 in c:\\users\\rlkee\\anaconda3\\lib\\site-packages (from httpcore<0.14.0,>=0.13.3->httpx<0.19.0,>=0.18.1->xrpl-py) (0.12.0)\n",
      "Requirement already satisfied: anyio==3.* in c:\\users\\rlkee\\anaconda3\\lib\\site-packages (from httpcore<0.14.0,>=0.13.3->httpx<0.19.0,>=0.18.1->xrpl-py) (3.5.0)\n",
      "Requirement already satisfied: idna>=2.8 in c:\\users\\rlkee\\anaconda3\\lib\\site-packages (from anyio==3.*->httpcore<0.14.0,>=0.13.3->httpx<0.19.0,>=0.18.1->xrpl-py) (3.3)\n"
     ]
    }
   ],
   "source": [
    "# Install the xrpl-py library\n",
    "!pip3 install xrpl-py"
   ]
  },
  {
   "cell_type": "markdown",
   "id": "e2ef13bb-c1ef-4c45-86cc-eb0e25887cbf",
   "metadata": {},
   "source": [
    "## Establish a connection to the XRP Publicy Ledger"
   ]
  },
  {
   "cell_type": "markdown",
   "id": "08e5d108-fa1f-41b9-b7ab-31a0b420d3b1",
   "metadata": {},
   "source": [
    "## Manage keys and wallets\n",
    "## `xrpl.wallet`\n",
    "* Use the xrpl.wallet module to create a wallet from a given seed or or via a Testnet faucet.\n",
    "* To create a wallet from a seed (in this case, the value generated using xrpl.keypairs):"
   ]
  },
  {
   "cell_type": "code",
   "execution_count": 42,
   "id": "db902abd-a092-4f03-8dc3-a0d0752bf38c",
   "metadata": {},
   "outputs": [],
   "source": [
    "from xrpl.clients import JsonRpcClient\n",
    "JSON_RPC_URL = \"https://s.devnet.rippletest.net:51234\"\n",
    "client = JsonRpcClient(JSON_RPC_URL)"
   ]
  },
  {
   "cell_type": "code",
   "execution_count": 43,
   "id": "573bac08-b4bd-480d-b432-54cbe3566249",
   "metadata": {},
   "outputs": [],
   "source": [
    "from xrpl.clients import JsonRpcClient\n",
    "JSON_RPC_URL = \"https://xrplcluster.com/\"\n",
    "client = JsonRpcClient(JSON_RPC_URL)"
   ]
  },
  {
   "cell_type": "code",
   "execution_count": 44,
   "id": "26277960-a917-4b4f-8f0d-f800e7d228af",
   "metadata": {},
   "outputs": [
    {
     "ename": "NameError",
     "evalue": "name 'xrpl' is not defined",
     "output_type": "error",
     "traceback": [
      "\u001b[1;31m---------------------------------------------------------------------------\u001b[0m",
      "\u001b[1;31mNameError\u001b[0m                                 Traceback (most recent call last)",
      "\u001b[1;32m~\\AppData\\Local\\Temp/ipykernel_60124/1561292982.py\u001b[0m in \u001b[0;36m<module>\u001b[1;34m\u001b[0m\n\u001b[1;32m----> 1\u001b[1;33m \u001b[0mwallet_from_seed\u001b[0m \u001b[1;33m=\u001b[0m \u001b[0mxrpl\u001b[0m\u001b[1;33m.\u001b[0m\u001b[0mwallet\u001b[0m\u001b[1;33m.\u001b[0m\u001b[0mWallet\u001b[0m\u001b[1;33m(\u001b[0m\u001b[0mseed\u001b[0m\u001b[1;33m,\u001b[0m \u001b[1;36m0\u001b[0m\u001b[1;33m)\u001b[0m\u001b[1;33m\u001b[0m\u001b[1;33m\u001b[0m\u001b[0m\n\u001b[0m\u001b[0;32m      2\u001b[0m \u001b[0mprint\u001b[0m\u001b[1;33m(\u001b[0m\u001b[0mwallet_from_seed\u001b[0m\u001b[1;33m)\u001b[0m\u001b[1;33m\u001b[0m\u001b[1;33m\u001b[0m\u001b[0m\n\u001b[0;32m      3\u001b[0m \u001b[0mpub_key\u001b[0m\u001b[1;33m:\u001b[0m \u001b[1;34m'ED0DEEDA1257BA16ECA27F589E902E6E279B1C0BC571DFDB0572B40E4896303353'\u001b[0m\u001b[1;33m\u001b[0m\u001b[1;33m\u001b[0m\u001b[0m\n\u001b[0;32m      4\u001b[0m \u001b[0mpriv_key\u001b[0m\u001b[1;33m:\u001b[0m \u001b[1;34m'ED799D2A55E6C8ABC9EABE124FC14B8180324720A73E190D2F1B92318E3DC619F3'\u001b[0m\u001b[1;33m\u001b[0m\u001b[1;33m\u001b[0m\u001b[0m\n\u001b[0;32m      5\u001b[0m \u001b[0mclassic_address\u001b[0m\u001b[1;33m:\u001b[0m \u001b[1;34m'rQwM1ma6G7pXQwtWGz8nHFkPRymBdWPM62'\u001b[0m\u001b[1;33m\u001b[0m\u001b[1;33m\u001b[0m\u001b[0m\n",
      "\u001b[1;31mNameError\u001b[0m: name 'xrpl' is not defined"
     ]
    }
   ],
   "source": [
    "wallet_from_seed = xrpl.wallet.Wallet(seed, 0)\n",
    "print(wallet_from_seed)\n",
    "pub_key: 'ED0DEEDA1257BA16ECA27F589E902E6E279B1C0BC571DFDB0572B40E4896303353'\n",
    "priv_key: 'ED799D2A55E6C8ABC9EABE124FC14B8180324720A73E190D2F1B92318E3DC619F3'\n",
    "classic_address: 'rQwM1ma6G7pXQwtWGz8nHFkPRymBdWPM62'"
   ]
  },
  {
   "cell_type": "code",
   "execution_count": null,
   "id": "187b1364-6493-4eb7-bc39-45d4dff9f542",
   "metadata": {
    "tags": []
   },
   "outputs": [
    {
     "name": "stdout",
     "output_type": "stream",
     "text": [
      "Here's the public key:\n",
      "EDD119F10FA39A37048568A8919198E31EABF2D4245402BD8D94694EE4B73E8C97\n",
      "Here's the private key:\n",
      "ED6CFD37B0AD610C58AB3303C1F640B81F79F30C134B48FDA0CD660D31111AC034\n",
      "Store this in a secure place!\n"
     ]
    }
   ],
   "source": [
    "from xrpl.core import keypairs\n",
    "seed = keypairs.generate_seed()\n",
    "public, private = keypairs.derive_keypair(seed)\n",
    "test_account = keypairs.derive_classic_address(public)\n",
    "print(\"Here's the public key:\")\n",
    "print(public)\n",
    "print(\"Here's the private key:\")\n",
    "print(private)\n",
    "print(\"Store this in a secure place!\")"
   ]
  },
  {
   "cell_type": "markdown",
   "id": "fa8696dd-45b2-49c7-ac6b-14ba65154ae5",
   "metadata": {},
   "source": [
    "## To create a wallet from a Testnet faucet:"
   ]
  },
  {
   "cell_type": "code",
   "execution_count": 20,
   "id": "1f323658-c1f1-4679-a167-2649f9493f1a",
   "metadata": {
    "tags": []
   },
   "outputs": [
    {
     "ename": "NameError",
     "evalue": "name 'generate_faucet_wallet' is not defined",
     "output_type": "error",
     "traceback": [
      "\u001b[1;31m---------------------------------------------------------------------------\u001b[0m",
      "\u001b[1;31mNameError\u001b[0m                                 Traceback (most recent call last)",
      "\u001b[1;32m~\\AppData\\Local\\Temp/ipykernel_60124/2048043583.py\u001b[0m in \u001b[0;36m<module>\u001b[1;34m\u001b[0m\n\u001b[1;32m----> 1\u001b[1;33m \u001b[0mtest_wallet\u001b[0m \u001b[1;33m=\u001b[0m \u001b[0mgenerate_faucet_wallet\u001b[0m\u001b[1;33m(\u001b[0m\u001b[0mclient\u001b[0m\u001b[1;33m)\u001b[0m\u001b[1;33m\u001b[0m\u001b[1;33m\u001b[0m\u001b[0m\n\u001b[0m\u001b[0;32m      2\u001b[0m \u001b[0mtest_account\u001b[0m \u001b[1;33m=\u001b[0m \u001b[0mtest_wallet\u001b[0m\u001b[1;33m.\u001b[0m\u001b[0mclassic_address\u001b[0m\u001b[1;33m\u001b[0m\u001b[1;33m\u001b[0m\u001b[0m\n\u001b[0;32m      3\u001b[0m \u001b[0mprint\u001b[0m\u001b[1;33m(\u001b[0m\u001b[1;34m\"Classic address:\"\u001b[0m\u001b[1;33m,\u001b[0m \u001b[0mtest_account\u001b[0m\u001b[1;33m)\u001b[0m\u001b[1;33m\u001b[0m\u001b[1;33m\u001b[0m\u001b[0m\n",
      "\u001b[1;31mNameError\u001b[0m: name 'generate_faucet_wallet' is not defined"
     ]
    }
   ],
   "source": [
    "test_wallet = generate_faucet_wallet(client)\n",
    "test_account = test_wallet.classic_address\n",
    "print(\"Classic address:\", test_account)"
   ]
  },
  {
   "cell_type": "markdown",
   "id": "95dd4e87-c646-4d4d-a3a5-121b11401c52",
   "metadata": {},
   "source": [
    "## xrpl.core.keypairs\n",
    "* Use the xrpl.core.keypairs module to generate seeds and derive keypairs and addresses from those seed values."
   ]
  },
  {
   "cell_type": "code",
   "execution_count": 9,
   "id": "553bf328-9321-40ad-8819-df4379191c8d",
   "metadata": {
    "tags": []
   },
   "outputs": [
    {
     "name": "stdout",
     "output_type": "stream",
     "text": [
      "Here's the public key:\n",
      "EDDFF9DC22EDA5884C5F77614FEA761C472D915CA9A7B45DD0572BA7AF2C75D9DD\n",
      "Here's the private key:\n",
      "EDEAB5D945B2C63294D9FC88CCCDBD6C690E65B2FF3BEB0FE52C8499F3C9CD6A96\n",
      "Store this in a secure place!\n"
     ]
    }
   ],
   "source": [
    "from xrpl.core import keypairs\n",
    "seed = keypairs.generate_seed()\n",
    "public, private = keypairs.derive_keypair(seed)\n",
    "test_account = keypairs.derive_classic_address(public)\n",
    "print(\"Here's the public key:\")\n",
    "print(public)\n",
    "print(\"Here's the private key:\")\n",
    "print(private)\n",
    "print(\"Store this in a secure place!\")"
   ]
  },
  {
   "cell_type": "markdown",
   "id": "62bec555-10d5-46af-9843-4699689cc5b5",
   "metadata": {
    "tags": []
   },
   "source": [
    "# Serialize and sign transactions"
   ]
  },
  {
   "cell_type": "markdown",
   "id": "39de2914-1917-4fc7-a8e9-a7de80f53aa5",
   "metadata": {},
   "source": [
    "* First serialize data from JSON and other formats into the XRP Ledger's canonical format\n",
    "* Then to authorize the transaction by digitally signing it with the account's private key. The xrpl-py library provides several methods to simplify this process."
   ]
  },
  {
   "cell_type": "code",
   "execution_count": 10,
   "id": "5b5885bc-902d-41c4-954b-509fd568d23b",
   "metadata": {},
   "outputs": [
    {
     "ename": "NameError",
     "evalue": "name 'test_wallet' is not defined",
     "output_type": "error",
     "traceback": [
      "\u001b[1;31m---------------------------------------------------------------------------\u001b[0m",
      "\u001b[1;31mNameError\u001b[0m                                 Traceback (most recent call last)",
      "\u001b[1;32m~\\AppData\\Local\\Temp/ipykernel_60124/1842785484.py\u001b[0m in \u001b[0;36m<module>\u001b[1;34m\u001b[0m\n\u001b[0;32m      5\u001b[0m \u001b[1;33m\u001b[0m\u001b[0m\n\u001b[0;32m      6\u001b[0m \u001b[0mcurrent_validated_ledger\u001b[0m \u001b[1;33m=\u001b[0m \u001b[0mget_latest_validated_ledger_sequence\u001b[0m\u001b[1;33m(\u001b[0m\u001b[0mclient\u001b[0m\u001b[1;33m)\u001b[0m\u001b[1;33m\u001b[0m\u001b[1;33m\u001b[0m\u001b[0m\n\u001b[1;32m----> 7\u001b[1;33m \u001b[0mtest_wallet\u001b[0m\u001b[1;33m.\u001b[0m\u001b[0msequence\u001b[0m \u001b[1;33m=\u001b[0m \u001b[0mget_next_valid_seq_number\u001b[0m\u001b[1;33m(\u001b[0m\u001b[0mtest_wallet\u001b[0m\u001b[1;33m.\u001b[0m\u001b[0mclassic_address\u001b[0m\u001b[1;33m,\u001b[0m \u001b[0mclient\u001b[0m\u001b[1;33m)\u001b[0m\u001b[1;33m\u001b[0m\u001b[1;33m\u001b[0m\u001b[0m\n\u001b[0m\u001b[0;32m      8\u001b[0m \u001b[1;33m\u001b[0m\u001b[0m\n\u001b[0;32m      9\u001b[0m \u001b[1;31m# prepare the transaction\u001b[0m\u001b[1;33m\u001b[0m\u001b[1;33m\u001b[0m\u001b[1;33m\u001b[0m\u001b[0m\n",
      "\u001b[1;31mNameError\u001b[0m: name 'test_wallet' is not defined"
     ]
    }
   ],
   "source": [
    "from xrpl.models.transactions import Payment\n",
    "from xrpl.transaction import safe_sign_transaction, send_reliable_submission\n",
    "from xrpl.ledger import get_latest_validated_ledger_sequence\n",
    "from xrpl.account import get_next_valid_seq_number\n",
    "\n",
    "current_validated_ledger = get_latest_validated_ledger_sequence(client)\n",
    "test_wallet.sequence = get_next_valid_seq_number(test_wallet.classic_address, client)\n",
    "\n",
    "# prepare the transaction\n",
    "# the amount is expressed in drops, not XRP\n",
    "# see https://xrpl.org/basic-data-types.html#specifying-currency-amounts\n",
    "my_tx_payment = Payment(\n",
    "    account=test_wallet.classic_address,\n",
    "    amount=\"2200000\",\n",
    "    destination=\"rPT1Sjq2YGrBMTttX4GZHjKu9dyfzbpAYe\",\n",
    "    last_ledger_sequence=current_validated_ledger + 20,\n",
    "    sequence=test_wallet.sequence,\n",
    "    fee=\"10\",\n",
    ")\n",
    "# sign the transaction\n",
    "my_tx_payment_signed = safe_sign_transaction(my_tx_payment,test_wallet)\n",
    "\n",
    "# submit the transaction\n",
    "tx_response = send_reliable_submission(my_tx_payment_signed, client)"
   ]
  },
  {
   "cell_type": "markdown",
   "id": "3a49aa3a-2e5b-4b2e-acfc-7209400022a0",
   "metadata": {},
   "source": [
    "# Get fee from the XRP Ledger\n"
   ]
  },
  {
   "cell_type": "code",
   "execution_count": null,
   "id": "25ae486c-d6e3-4c16-a085-736c29e3041c",
   "metadata": {},
   "outputs": [],
   "source": [
    "# use the get_fee function\n",
    "from xrpl.ledger import get_fee\n",
    "fee = get_fee(client)\n",
    "print(fee)\n",
    "# 10"
   ]
  },
  {
   "cell_type": "code",
   "execution_count": null,
   "id": "c295c4a4-c0b7-4532-80b9-ae5052f7b1f5",
   "metadata": {},
   "outputs": [],
   "source": [
    "from xrpl.models.transactions import Payment\n",
    "from xrpl.transaction import send_reliable_submission, safe_sign_and_autofill_transaction\n",
    "# prepare the transaction\n",
    "# the amount is expressed in drops, not XRP\n",
    "# see https://xrpl.org/basic-data-types.html#specifying-currency-amounts\n",
    "my_tx_payment = Payment(\n",
    "    account=test_wallet.classic_address,\n",
    "    amount=\"2200000\",\n",
    "    destination=\"rPT1Sjq2YGrBMTttX4GZHjKu9dyfzbpAYe\"\n",
    ")\n",
    "\n",
    "# sign the transaction with the autofill method\n",
    "# (this will auto-populate the fee, sequence, and last_ledger_sequence)\n",
    "my_tx_payment_signed = safe_sign_and_autofill_transaction(my_tx_payment, test_wallet, client)\n",
    "print(my_tx_payment_signed)\n",
    "# Payment(\n",
    "#     account='rMPUKmzmDWEX1tQhzQ8oGFNfAEhnWNFwz',\n",
    "#     transaction_type=<TransactionType.PAYMENT: 'Payment'>,\n",
    "#     fee='10',\n",
    "#     sequence=16034065,\n",
    "#     account_txn_id=None,\n",
    "#     flags=0,\n",
    "#     last_ledger_sequence=10268600,\n",
    "#     memos=None,\n",
    "#     signers=None,\n",
    "#     source_tag=None,\n",
    "#     signing_pub_key='EDD9540FA398915F0BCBD6E65579C03BE5424836CB68B7EB1D6573F2382156B444',\n",
    "#     txn_signature='938FB22AE7FE76CF26FD11F8F97668E175DFAABD2977BCA397233117E7E1C4A1E39681091CC4D6DF21403682803AB54CC21DC4FA2F6848811DEE10FFEF74D809',\n",
    "#     amount='2200000',\n",
    "#     destination='rPT1Sjq2YGrBMTttX4GZHjKu9dyfzbpAYe',\n",
    "#     destination_tag=None,\n",
    "#     invoice_id=None,\n",
    "#     paths=None,\n",
    "#     send_max=None,\n",
    "#     deliver_min=None\n",
    "# )\n",
    "\n",
    "# submit the transaction\n",
    "tx_response = send_reliable_submission(my_tx_payment_signed, client)"
   ]
  },
  {
   "cell_type": "markdown",
   "id": "2724fb82-0198-475c-8ca6-512a4b3a0c3e",
   "metadata": {},
   "source": [
    "# Subscribe to ledger updates\n"
   ]
  },
  {
   "cell_type": "code",
   "execution_count": null,
   "id": "98c9d145-a83b-4d4b-98c7-5c63b4652485",
   "metadata": {},
   "outputs": [],
   "source": [
    "# Send subscribe and unsubscribe requests using the WebSocket Network Client.\n",
    "from xrpl.clients import WebsocketClient\n",
    "url = \"wss://s.altnet.rippletest.net/\"\n",
    "from xrpl.models.requests import Subscribe, StreamParameter\n",
    "req = Subscribe(streams=[StreamParameter.LEDGER])\n",
    "# NOTE: this code will run forever without a timeout, until the process is killed\n",
    "with WebsocketClient(url) as client:\n",
    "    client.send(req)\n",
    "    for message in client:\n",
    "        print(message)\n",
    "# {'result': {'fee_base': 10, 'fee_ref': 10, 'ledger_hash': '7CD50477F23FF158B430772D8E82A961376A7B40E13C695AA849811EDF66C5C0', 'ledger_index': 18183504, 'ledger_time': 676412962, 'reserve_base': 20000000, 'reserve_inc': 5000000, 'validated_ledgers': '17469391-18183504'}, 'status': 'success', 'type': 'response'}\n",
    "# {'fee_base': 10, 'fee_ref': 10, 'ledger_hash': 'BAA743DABD168BD434804416C8087B7BDEF7E6D7EAD412B9102281DD83B10D00', 'ledger_index': 18183505, 'ledger_time': 676412970, 'reserve_base': 20000000, 'reserve_inc': 5000000, 'txn_count': 0, 'type': 'ledgerClosed', 'validated_ledgers': '17469391-18183505'}\n",
    "# {'fee_base': 10, 'fee_ref': 10, 'ledger_hash': 'D8227DAF8F745AE3F907B251D40B4081E019D013ABC23B68C0B1431DBADA1A46', 'ledger_index': 18183506, 'ledger_time': 676412971, 'reserve_base': 20000000, 'reserve_inc': 5000000, 'txn_count': 0, 'type': 'ledgerClosed', 'validated_ledgers': '17469391-18183506'}\n",
    "# {'fee_base': 10, 'fee_ref': 10, 'ledger_hash': 'CFC412B6DDB9A402662832A781C23F0F2E842EAE6CFC539FEEB287318092C0DE', 'ledger_index': 18183507, 'ledger_time': 676412972, 'reserve_base': 20000000, 'reserve_inc': 5000000, 'txn_count': 0, 'type': 'ledgerClosed', 'validated_ledgers': '17469391-18183507'}"
   ]
  },
  {
   "cell_type": "code",
   "execution_count": null,
   "id": "632e79ad-7a21-4d9c-b873-98e1b84fb040",
   "metadata": {},
   "outputs": [],
   "source": []
  }
 ],
 "metadata": {
  "kernelspec": {
   "display_name": "Python 3 (ipykernel)",
   "language": "python",
   "name": "python3"
  },
  "language_info": {
   "codemirror_mode": {
    "name": "ipython",
    "version": 3
   },
   "file_extension": ".py",
   "mimetype": "text/x-python",
   "name": "python",
   "nbconvert_exporter": "python",
   "pygments_lexer": "ipython3",
   "version": "3.8.8"
  }
 },
 "nbformat": 4,
 "nbformat_minor": 5
}
