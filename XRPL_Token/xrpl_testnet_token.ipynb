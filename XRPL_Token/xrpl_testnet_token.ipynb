{
 "cells": [
  {
   "cell_type": "code",
   "execution_count": 10,
   "id": "d20477c0-3aaa-4968-b6e0-40fea27fba5a",
   "metadata": {},
   "outputs": [],
   "source": [
    "# Import dependencies and connect to the XRPL\n",
    "import xrpl\n",
    "import nest_asyncio\n",
    "nest_asyncio.apply()\n",
    "test_url = 'https://s.altnet.rippletest.net:51234'\n",
    "client = xrpl.clients.JsonRpcClient(test_url)"
   ]
  },
  {
   "cell_type": "code",
   "execution_count": 11,
   "id": "20311819-a558-40a6-8290-740fd84d7c9d",
   "metadata": {},
   "outputs": [
    {
     "name": "stdout",
     "output_type": "stream",
     "text": [
      "Getting 2 new accounts from the Testnet faucet\n",
      "Attempting to fund address rstsTDN8bZRiA4bhD5P8LiaXWzNFzM5cgw\n"
     ]
    },
    {
     "name": "stderr",
     "output_type": "stream",
     "text": [
      "C:\\Users\\rlkee\\anaconda3\\lib\\site-packages\\base58\\__init__.py:72: RuntimeWarning: coroutine 'generate_faucet_wallet' was never awaited\n",
      "  invmap = {char: index for index, char in enumerate(alphabet)}\n",
      "RuntimeWarning: Enable tracemalloc to get the object allocation traceback\n"
     ]
    },
    {
     "name": "stdout",
     "output_type": "stream",
     "text": [
      "Faucet fund successful.\n",
      "Attempting to fund address rfwzaPeyPqG2vZuvEipGKCPYWsYW5D4uWq\n",
      "Faucet fund successful.\n"
     ]
    }
   ],
   "source": [
    "# Generating credentials for Testnet Faucet\n",
    "faucet_url = \"https://faucet.altnet.rippletest.net/accounts\"\n",
    "print(\"Getting 2 new accounts from the Testnet faucet\")\n",
    "from xrpl.wallet import generate_faucet_wallet\n",
    "cold_wallet = generate_faucet_wallet(client, debug = True)\n",
    "hot_wallet = generate_faucet_wallet(client, debug=True)"
   ]
  },
  {
   "cell_type": "code",
   "execution_count": 14,
   "id": "bbf48663-426c-4700-9ccb-921aebf6f93d",
   "metadata": {},
   "outputs": [
    {
     "name": "stdout",
     "output_type": "stream",
     "text": [
      "Getting 2 new accounts from the Testnet faucet...\n",
      "Attempting to fund address rPFEMbUQrBQccJk4gh7iCCFLRNzRtPpctU\n",
      "Faucet fund successful.\n",
      "Attempting to fund address rMmX6S2vdiMi73gaX7tPAtxvivimQbvnC2\n",
      "Faucet fund successful.\n",
      "Sending cold address AccountSet transaction...\n",
      "Response(status=<ResponseStatus.SUCCESS: 'success'>, result={'Account': 'rPFEMbUQrBQccJk4gh7iCCFLRNzRtPpctU', 'Domain': '6578616D706C652E636F6D', 'Fee': '10', 'Flags': 0, 'LastLedgerSequence': 29787209, 'Sequence': 29787185, 'SetFlag': 8, 'SigningPubKey': 'ED6CE457C65962B9ADB387E8F0EEE706A5EDC3FCB2FF7031B524FEE606175ACCB8', 'TickSize': 5, 'TransactionType': 'AccountSet', 'TransferRate': 0, 'TxnSignature': '039723228B64631C1F0D141530A20E657D620EFF67A6A4F9CECBFF867D5F2FBF41BB9AAFB4242E1DEF2367473D2739C158300562414DE2523EFFBB5E8E5F470E', 'date': 712117461, 'hash': '230B27F0905861C1342BB1F05C963E135BF0255CB1AC689CB71D9DAEA284FB36', 'inLedger': 29787191, 'ledger_index': 29787191, 'meta': {'AffectedNodes': [{'ModifiedNode': {'FinalFields': {'Account': 'rPFEMbUQrBQccJk4gh7iCCFLRNzRtPpctU', 'Balance': '999999990', 'Domain': '6578616D706C652E636F6D', 'Flags': 8388608, 'OwnerCount': 0, 'Sequence': 29787186, 'TickSize': 5}, 'LedgerEntryType': 'AccountRoot', 'LedgerIndex': '6B9170A2CC119B8469A060A946A0DE0346A1569D332E2C8EABA65F72FA224B57', 'PreviousFields': {'Balance': '1000000000', 'Flags': 0, 'Sequence': 29787185}, 'PreviousTxnID': 'ED7B726B916B97B5A333CAC65432083789B0B294BF34DF9282341B77B5D7784C', 'PreviousTxnLgrSeq': 29787185}}], 'TransactionIndex': 0, 'TransactionResult': 'tesSUCCESS'}, 'validated': True}, id=None, type=<ResponseType.RESPONSE: 'response'>)\n",
      "Sending hot address AccountSet transaction...\n",
      "Response(status=<ResponseStatus.SUCCESS: 'success'>, result={'Account': 'rMmX6S2vdiMi73gaX7tPAtxvivimQbvnC2', 'Fee': '10', 'Flags': 0, 'LastLedgerSequence': 29787211, 'Sequence': 29787188, 'SetFlag': 2, 'SigningPubKey': 'EDE24E3DE87BEC9CCB05C26A0B23AFB3EDEF489DD5ADB09DF19BAD34194948D146', 'TransactionType': 'AccountSet', 'TxnSignature': 'ED6A087562D82E5203C61A40387C32EFB33D1CA4AE023B887F2D3151FEFB98AA176CD75C106696A3CFDDEEB157C4711E848BF025BA31B514E18573ACEC50DD0D', 'date': 712117470, 'hash': '3251CABB576302F7344178FD924D499BD4F8C93C680405FEC0B37F4EC6AE0DE1', 'inLedger': 29787193, 'ledger_index': 29787193, 'meta': {'AffectedNodes': [{'ModifiedNode': {'FinalFields': {'Account': 'rMmX6S2vdiMi73gaX7tPAtxvivimQbvnC2', 'Balance': '999999990', 'Flags': 262144, 'OwnerCount': 0, 'Sequence': 29787189}, 'LedgerEntryType': 'AccountRoot', 'LedgerIndex': 'AED82C7F5AB27274D0CC261028AD5895494910771C5FA3BF68C578532447A19A', 'PreviousFields': {'Balance': '1000000000', 'Flags': 0, 'Sequence': 29787188}, 'PreviousTxnID': 'A76146DE83E0B1A645B4C0BFBB3496A2D73D798354709161656B2E654277F57B', 'PreviousTxnLgrSeq': 29787188}}], 'TransactionIndex': 0, 'TransactionResult': 'tesSUCCESS'}, 'validated': True}, id=None, type=<ResponseType.RESPONSE: 'response'>)\n",
      "Creating trust line from hot address to issuer...\n",
      "Response(status=<ResponseStatus.SUCCESS: 'success'>, result={'Account': 'rMmX6S2vdiMi73gaX7tPAtxvivimQbvnC2', 'Fee': '10', 'Flags': 0, 'LastLedgerSequence': 29787214, 'LimitAmount': {'currency': 'XDA', 'issuer': 'rPFEMbUQrBQccJk4gh7iCCFLRNzRtPpctU', 'value': '9000000000'}, 'Sequence': 29787189, 'SigningPubKey': 'EDE24E3DE87BEC9CCB05C26A0B23AFB3EDEF489DD5ADB09DF19BAD34194948D146', 'TransactionType': 'TrustSet', 'TxnSignature': 'BDA3615EB0ACB2C17D8639676786DCE998E95CC4737AE943955353AC13CC4509B60E1658B9D1848CEAD9058FAB638CC3D398BF82DD9EC9DFE25AB1F6D3E77C0B', 'date': 712117480, 'hash': '24FD8589407EEFA9C67DA13BBFE504C6FD9D1CC4DDB8401DAFD5AC83FDD1F15E', 'inLedger': 29787196, 'ledger_index': 29787196, 'meta': {'AffectedNodes': [{'CreatedNode': {'LedgerEntryType': 'DirectoryNode', 'LedgerIndex': '2181BFF53AD6E4116E6FC9BD37B78680B257E2E891E8B1197BC944B347518345', 'NewFields': {'Owner': 'rMmX6S2vdiMi73gaX7tPAtxvivimQbvnC2', 'RootIndex': '2181BFF53AD6E4116E6FC9BD37B78680B257E2E891E8B1197BC944B347518345'}}}, {'ModifiedNode': {'LedgerEntryType': 'AccountRoot', 'LedgerIndex': '6B9170A2CC119B8469A060A946A0DE0346A1569D332E2C8EABA65F72FA224B57', 'PreviousTxnID': '230B27F0905861C1342BB1F05C963E135BF0255CB1AC689CB71D9DAEA284FB36', 'PreviousTxnLgrSeq': 29787191}}, {'CreatedNode': {'LedgerEntryType': 'DirectoryNode', 'LedgerIndex': '9DD72C35EA53E6847CDEEF76483D5E88FD744734DC9FAC8DEC75F9E048A94376', 'NewFields': {'Owner': 'rPFEMbUQrBQccJk4gh7iCCFLRNzRtPpctU', 'RootIndex': '9DD72C35EA53E6847CDEEF76483D5E88FD744734DC9FAC8DEC75F9E048A94376'}}}, {'CreatedNode': {'LedgerEntryType': 'RippleState', 'LedgerIndex': '9ED44079A107DF3B9B2AEA4558BB039E68D7797178E7E6FC5576EDE599AE3E18', 'NewFields': {'Balance': {'currency': 'XDA', 'issuer': 'rrrrrrrrrrrrrrrrrrrrBZbvji', 'value': '0'}, 'Flags': 65536, 'HighLimit': {'currency': 'XDA', 'issuer': 'rPFEMbUQrBQccJk4gh7iCCFLRNzRtPpctU', 'value': '0'}, 'LowLimit': {'currency': 'XDA', 'issuer': 'rMmX6S2vdiMi73gaX7tPAtxvivimQbvnC2', 'value': '9000000000'}}}}, {'ModifiedNode': {'FinalFields': {'Account': 'rMmX6S2vdiMi73gaX7tPAtxvivimQbvnC2', 'Balance': '999999980', 'Flags': 262144, 'OwnerCount': 1, 'Sequence': 29787190}, 'LedgerEntryType': 'AccountRoot', 'LedgerIndex': 'AED82C7F5AB27274D0CC261028AD5895494910771C5FA3BF68C578532447A19A', 'PreviousFields': {'Balance': '999999990', 'OwnerCount': 0, 'Sequence': 29787189}, 'PreviousTxnID': '3251CABB576302F7344178FD924D499BD4F8C93C680405FEC0B37F4EC6AE0DE1', 'PreviousTxnLgrSeq': 29787193}}], 'TransactionIndex': 0, 'TransactionResult': 'tesSUCCESS'}, 'validated': True}, id=None, type=<ResponseType.RESPONSE: 'response'>)\n",
      "Sending 500000 XDA to rMmX6S2vdiMi73gaX7tPAtxvivimQbvnC2...\n",
      "Response(status=<ResponseStatus.SUCCESS: 'success'>, result={'Account': 'rPFEMbUQrBQccJk4gh7iCCFLRNzRtPpctU', 'Amount': {'currency': 'XDA', 'issuer': 'rPFEMbUQrBQccJk4gh7iCCFLRNzRtPpctU', 'value': '500000'}, 'Destination': 'rMmX6S2vdiMi73gaX7tPAtxvivimQbvnC2', 'Fee': '10', 'Flags': 0, 'LastLedgerSequence': 29787218, 'Sequence': 29787186, 'SigningPubKey': 'ED6CE457C65962B9ADB387E8F0EEE706A5EDC3FCB2FF7031B524FEE606175ACCB8', 'TransactionType': 'Payment', 'TxnSignature': '805CCD4C11EE47AB07AD10D9362DC87838A5CE0D18022F5D28D7085AB7CA8CC63CA5AF0A3385195334B618717896946A83614CA7B15F19E732D1804F88FE7D07', 'date': 712117490, 'hash': '7AD5F82CA071EFCA240611235C74B3BCDB33B5B4332CB394E74FFD0C8A63CA61', 'inLedger': 29787200, 'ledger_index': 29787200, 'meta': {'AffectedNodes': [{'ModifiedNode': {'FinalFields': {'Account': 'rPFEMbUQrBQccJk4gh7iCCFLRNzRtPpctU', 'Balance': '999999980', 'Domain': '6578616D706C652E636F6D', 'Flags': 8388608, 'OwnerCount': 0, 'Sequence': 29787187, 'TickSize': 5}, 'LedgerEntryType': 'AccountRoot', 'LedgerIndex': '6B9170A2CC119B8469A060A946A0DE0346A1569D332E2C8EABA65F72FA224B57', 'PreviousFields': {'Balance': '999999990', 'Sequence': 29787186}, 'PreviousTxnID': '24FD8589407EEFA9C67DA13BBFE504C6FD9D1CC4DDB8401DAFD5AC83FDD1F15E', 'PreviousTxnLgrSeq': 29787196}}, {'ModifiedNode': {'FinalFields': {'Balance': {'currency': 'XDA', 'issuer': 'rrrrrrrrrrrrrrrrrrrrBZbvji', 'value': '500000'}, 'Flags': 65536, 'HighLimit': {'currency': 'XDA', 'issuer': 'rPFEMbUQrBQccJk4gh7iCCFLRNzRtPpctU', 'value': '0'}, 'HighNode': '0', 'LowLimit': {'currency': 'XDA', 'issuer': 'rMmX6S2vdiMi73gaX7tPAtxvivimQbvnC2', 'value': '9000000000'}, 'LowNode': '0'}, 'LedgerEntryType': 'RippleState', 'LedgerIndex': '9ED44079A107DF3B9B2AEA4558BB039E68D7797178E7E6FC5576EDE599AE3E18', 'PreviousFields': {'Balance': {'currency': 'XDA', 'issuer': 'rrrrrrrrrrrrrrrrrrrrBZbvji', 'value': '0'}}, 'PreviousTxnID': '24FD8589407EEFA9C67DA13BBFE504C6FD9D1CC4DDB8401DAFD5AC83FDD1F15E', 'PreviousTxnLgrSeq': 29787196}}], 'TransactionIndex': 0, 'TransactionResult': 'tesSUCCESS', 'delivered_amount': {'currency': 'XDA', 'issuer': 'rPFEMbUQrBQccJk4gh7iCCFLRNzRtPpctU', 'value': '500000'}}, 'validated': True}, id=None, type=<ResponseType.RESPONSE: 'response'>)\n",
      "Getting hot address balances...\n",
      "Response(status=<ResponseStatus.SUCCESS: 'success'>, result={'account': 'rMmX6S2vdiMi73gaX7tPAtxvivimQbvnC2', 'ledger_hash': '694C4F489C933F79DA65BC9535F05450FDA8CE5C573CD5216A80FF28A2FF7825', 'ledger_index': 29787200, 'lines': [{'account': 'rPFEMbUQrBQccJk4gh7iCCFLRNzRtPpctU', 'balance': '500000', 'currency': 'XDA', 'limit': '9000000000', 'limit_peer': '0', 'no_ripple': False, 'no_ripple_peer': False, 'quality_in': 0, 'quality_out': 0}], 'validated': True}, id=None, type=<ResponseType.RESPONSE: 'response'>)\n",
      "Getting cold address balances...\n",
      "Response(status=<ResponseStatus.SUCCESS: 'success'>, result={'account': 'rPFEMbUQrBQccJk4gh7iCCFLRNzRtPpctU', 'balances': {'rMmX6S2vdiMi73gaX7tPAtxvivimQbvnC2': [{'currency': 'XDA', 'value': '500000'}]}, 'ledger_hash': '694C4F489C933F79DA65BC9535F05450FDA8CE5C573CD5216A80FF28A2FF7825', 'ledger_index': 29787200, 'validated': True}, id=None, type=<ResponseType.RESPONSE: 'response'>)\n"
     ]
    }
   ],
   "source": [
    "# Stand-alone code sample for the \"issue a token\" tutorial:\n",
    "# https://xrpl.org/issue-a-fungible-token.html\n",
    "# License: https://github.com/XRPLF/xrpl-dev-portal/blob/master/LICENSE\n",
    "\n",
    "# Connect ----------------------------------------------------------------------\n",
    "import xrpl\n",
    "testnet_url = \"https://s.altnet.rippletest.net:51234\"\n",
    "client = xrpl.clients.JsonRpcClient(testnet_url)\n",
    "\n",
    "\n",
    "# Get credentials from the Testnet Faucet --------------------------------------\n",
    "# For production, instead create a Wallet instance\n",
    "faucet_url = \"https://faucet.altnet.rippletest.net/accounts\"\n",
    "print(\"Getting 2 new accounts from the Testnet faucet...\")\n",
    "from xrpl.wallet import generate_faucet_wallet\n",
    "cold_wallet = generate_faucet_wallet(client, debug=True)\n",
    "hot_wallet = generate_faucet_wallet(client, debug=True)\n",
    "\n",
    "\n",
    "# Configure issuer (cold address) settings -------------------------------------\n",
    "cold_settings_tx = xrpl.models.transactions.AccountSet(\n",
    "    account=cold_wallet.classic_address,\n",
    "    transfer_rate=0,\n",
    "    tick_size=5,\n",
    "    domain=bytes.hex(\"example.com\".encode(\"ASCII\")),\n",
    "    set_flag=xrpl.models.transactions.AccountSetFlag.ASF_DEFAULT_RIPPLE,\n",
    ")\n",
    "cst_prepared = xrpl.transaction.safe_sign_and_autofill_transaction(\n",
    "    transaction=cold_settings_tx,\n",
    "    wallet=cold_wallet,\n",
    "    client=client,\n",
    ")\n",
    "print(\"Sending cold address AccountSet transaction...\")\n",
    "response = xrpl.transaction.send_reliable_submission(cst_prepared, client)\n",
    "print(response)\n",
    "\n",
    "\n",
    "# Configure hot address settings -----------------------------------------------\n",
    "hot_settings_tx = xrpl.models.transactions.AccountSet(\n",
    "    account=hot_wallet.classic_address,\n",
    "    set_flag=xrpl.models.transactions.AccountSetFlag.ASF_REQUIRE_AUTH,\n",
    ")\n",
    "hst_prepared = xrpl.transaction.safe_sign_and_autofill_transaction(\n",
    "    transaction=hot_settings_tx,\n",
    "    wallet=hot_wallet,\n",
    "    client=client,\n",
    ")\n",
    "print(\"Sending hot address AccountSet transaction...\")\n",
    "response = xrpl.transaction.send_reliable_submission(hst_prepared, client)\n",
    "print(response)\n",
    "\n",
    "\n",
    "# Create trust line from hot to cold address -----------------------------------\n",
    "currency_code = \"XDA\"\n",
    "trust_set_tx = xrpl.models.transactions.TrustSet(\n",
    "    account=hot_wallet.classic_address,\n",
    "    limit_amount=xrpl.models.amounts.issued_currency_amount.IssuedCurrencyAmount(\n",
    "        currency=currency_code,\n",
    "        issuer=cold_wallet.classic_address,\n",
    "        value=\"9000000000\", # Large limit, arbitrarily chosen\n",
    "    )\n",
    ")\n",
    "ts_prepared = xrpl.transaction.safe_sign_and_autofill_transaction(\n",
    "    transaction=trust_set_tx,\n",
    "    wallet=hot_wallet,\n",
    "    client=client,\n",
    ")\n",
    "print(\"Creating trust line from hot address to issuer...\")\n",
    "response = xrpl.transaction.send_reliable_submission(ts_prepared, client)\n",
    "print(response)\n",
    "\n",
    "\n",
    "# Send token -------------------------------------------------------------------\n",
    "issue_quantity = \"500000\"\n",
    "send_token_tx = xrpl.models.transactions.Payment(\n",
    "    account=cold_wallet.classic_address,\n",
    "    destination=hot_wallet.classic_address,\n",
    "    amount=xrpl.models.amounts.issued_currency_amount.IssuedCurrencyAmount(\n",
    "        currency=currency_code,\n",
    "        issuer=cold_wallet.classic_address,\n",
    "        value=issue_quantity\n",
    "    )\n",
    ")\n",
    "pay_prepared = xrpl.transaction.safe_sign_and_autofill_transaction(\n",
    "    transaction=send_token_tx,\n",
    "    wallet=cold_wallet,\n",
    "    client=client,\n",
    ")\n",
    "print(f\"Sending {issue_quantity} {currency_code} to {hot_wallet.classic_address}...\")\n",
    "response = xrpl.transaction.send_reliable_submission(pay_prepared, client)\n",
    "print(response)\n",
    "\n",
    "\n",
    "# Check balances ---------------------------------------------------------------\n",
    "print(\"Getting hot address balances...\")\n",
    "response = client.request(xrpl.models.requests.AccountLines(\n",
    "    account=hot_wallet.classic_address,\n",
    "    ledger_index=\"validated\",\n",
    "))\n",
    "print(response)\n",
    "\n",
    "print(\"Getting cold address balances...\")\n",
    "response = client.request(xrpl.models.requests.GatewayBalances(\n",
    "    account=cold_wallet.classic_address,\n",
    "    ledger_index=\"validated\",\n",
    "    hotwallet=[hot_wallet.classic_address]\n",
    "))\n",
    "print(response)"
   ]
  },
  {
   "cell_type": "code",
   "execution_count": 36,
   "id": "9abbf406-999b-4e72-8bfe-ecf202d0657c",
   "metadata": {},
   "outputs": [
    {
     "data": {
      "text/plain": [
       "Response(status=<ResponseStatus.SUCCESS: 'success'>, result={'account': 'rPFEMbUQrBQccJk4gh7iCCFLRNzRtPpctU', 'balances': {'rMmX6S2vdiMi73gaX7tPAtxvivimQbvnC2': [{'currency': 'XDA', 'value': '500000'}]}, 'ledger_hash': '694C4F489C933F79DA65BC9535F05450FDA8CE5C573CD5216A80FF28A2FF7825', 'ledger_index': 29787200, 'validated': True}, id=None, type=<ResponseType.RESPONSE: 'response'>)"
      ]
     },
     "execution_count": 36,
     "metadata": {},
     "output_type": "execute_result"
    }
   ],
   "source": [
    "response"
   ]
  },
  {
   "cell_type": "code",
   "execution_count": null,
   "id": "2a5598dc-2438-4f76-affa-9b845db16a9c",
   "metadata": {},
   "outputs": [],
   "source": []
  },
  {
   "cell_type": "code",
   "execution_count": null,
   "id": "37647941-e28d-48e8-9054-721530398bed",
   "metadata": {},
   "outputs": [],
   "source": []
  }
 ],
 "metadata": {
  "kernelspec": {
   "display_name": "Python 3 (ipykernel)",
   "language": "python",
   "name": "python3"
  },
  "language_info": {
   "codemirror_mode": {
    "name": "ipython",
    "version": 3
   },
   "file_extension": ".py",
   "mimetype": "text/x-python",
   "name": "python",
   "nbconvert_exporter": "python",
   "pygments_lexer": "ipython3",
   "version": "3.8.8"
  }
 },
 "nbformat": 4,
 "nbformat_minor": 5
}
