{
 "cells": [
  {
   "cell_type": "code",
   "execution_count": 10,
   "id": "d20477c0-3aaa-4968-b6e0-40fea27fba5a",
   "metadata": {},
   "outputs": [],
   "source": [
    "# Import dependencies and connect to the XRPL\n",
    "import xrpl\n",
    "import nest_asyncio\n",
    "nest_asyncio.apply()\n",
    "test_url = 'https://s.altnet.rippletest.net:51234'\n",
    "client = xrpl.clients.JsonRpcClient(test_url)"
   ]
  },
  {
   "cell_type": "code",
   "execution_count": 11,
   "id": "20311819-a558-40a6-8290-740fd84d7c9d",
   "metadata": {},
   "outputs": [
    {
     "name": "stdout",
     "output_type": "stream",
     "text": [
      "Getting 2 new accounts from the Testnet faucet\n",
      "Attempting to fund address rstsTDN8bZRiA4bhD5P8LiaXWzNFzM5cgw\n"
     ]
    },
    {
     "name": "stderr",
     "output_type": "stream",
     "text": [
      "C:\\Users\\rlkee\\anaconda3\\lib\\site-packages\\base58\\__init__.py:72: RuntimeWarning: coroutine 'generate_faucet_wallet' was never awaited\n",
      "  invmap = {char: index for index, char in enumerate(alphabet)}\n",
      "RuntimeWarning: Enable tracemalloc to get the object allocation traceback\n"
     ]
    },
    {
     "name": "stdout",
     "output_type": "stream",
     "text": [
      "Faucet fund successful.\n",
      "Attempting to fund address rfwzaPeyPqG2vZuvEipGKCPYWsYW5D4uWq\n",
      "Faucet fund successful.\n"
     ]
    }
   ],
   "source": [
    "faucet_url = \"https://faucet.altnet.rippletest.net/accounts\"\n",
    "print(\"Getting 2 new accounts from the Testnet faucet\")\n",
    "from xrpl.wallet import generate_faucet_wallet\n",
    "cold_wallet = generate_faucet_wallet(client, debug = True)\n",
    "hot_wallet = generate_faucet_wallet(client, debug=True)"
   ]
  },
  {
   "cell_type": "code",
   "execution_count": null,
   "id": "bbf48663-426c-4700-9ccb-921aebf6f93d",
   "metadata": {},
   "outputs": [],
   "source": []
  }
 ],
 "metadata": {
  "kernelspec": {
   "display_name": "Python 3 (ipykernel)",
   "language": "python",
   "name": "python3"
  },
  "language_info": {
   "codemirror_mode": {
    "name": "ipython",
    "version": 3
   },
   "file_extension": ".py",
   "mimetype": "text/x-python",
   "name": "python",
   "nbconvert_exporter": "python",
   "pygments_lexer": "ipython3",
   "version": "3.8.8"
  }
 },
 "nbformat": 4,
 "nbformat_minor": 5
}
